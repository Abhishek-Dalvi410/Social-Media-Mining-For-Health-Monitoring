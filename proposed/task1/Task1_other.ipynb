{
  "nbformat": 4,
  "nbformat_minor": 0,
  "metadata": {
    "colab": {
      "name": "Task1_BiLstm.ipynb",
      "provenance": [],
      "collapsed_sections": []
    },
    "kernelspec": {
      "name": "python3",
      "display_name": "Python 3"
    },
    "accelerator": "GPU"
  },
  "cells": [
    {
      "cell_type": "code",
      "metadata": {
        "id": "W6TF1qghGv3f",
        "colab_type": "code",
        "colab": {}
      },
      "source": [
        "#!pip install biobert-embedding==0.1.2"
      ],
      "execution_count": 0,
      "outputs": []
    },
    {
      "cell_type": "code",
      "metadata": {
        "id": "-u1my9f5PXVh",
        "colab_type": "code",
        "outputId": "a94739da-ef4f-4ac0-8a37-4fdf66294240",
        "colab": {
          "base_uri": "https://localhost:8080/",
          "height": 121
        }
      },
      "source": [
        "from google.colab import drive\n",
        "drive.mount('/content/gdrive')"
      ],
      "execution_count": 0,
      "outputs": [
        {
          "output_type": "stream",
          "text": [
            "Go to this URL in a browser: https://accounts.google.com/o/oauth2/auth?client_id=947318989803-6bn6qk8qdgf4n4g3pfee6491hc0brc4i.apps.googleusercontent.com&redirect_uri=urn%3aietf%3awg%3aoauth%3a2.0%3aoob&response_type=code&scope=email%20https%3a%2f%2fwww.googleapis.com%2fauth%2fdocs.test%20https%3a%2f%2fwww.googleapis.com%2fauth%2fdrive%20https%3a%2f%2fwww.googleapis.com%2fauth%2fdrive.photos.readonly%20https%3a%2f%2fwww.googleapis.com%2fauth%2fpeopleapi.readonly\n",
            "\n",
            "Enter your authorization code:\n",
            "··········\n",
            "Mounted at /content/gdrive\n"
          ],
          "name": "stdout"
        }
      ]
    },
    {
      "cell_type": "code",
      "metadata": {
        "id": "bbav63ZbvSvv",
        "colab_type": "code",
        "outputId": "abc4772a-12f7-4580-c3fd-e9b0eacdd9ad",
        "colab": {
          "base_uri": "https://localhost:8080/",
          "height": 306
        }
      },
      "source": [
        "pip install stanfordnlp"
      ],
      "execution_count": 0,
      "outputs": [
        {
          "output_type": "stream",
          "text": [
            "Collecting stanfordnlp\n",
            "\u001b[?25l  Downloading https://files.pythonhosted.org/packages/41/bf/5d2898febb6e993fcccd90484cba3c46353658511a41430012e901824e94/stanfordnlp-0.2.0-py3-none-any.whl (158kB)\n",
            "\r\u001b[K     |██                              | 10kB 22.1MB/s eta 0:00:01\r\u001b[K     |████▏                           | 20kB 1.6MB/s eta 0:00:01\r\u001b[K     |██████▏                         | 30kB 2.2MB/s eta 0:00:01\r\u001b[K     |████████▎                       | 40kB 2.4MB/s eta 0:00:01\r\u001b[K     |██████████▎                     | 51kB 1.9MB/s eta 0:00:01\r\u001b[K     |████████████▍                   | 61kB 2.2MB/s eta 0:00:01\r\u001b[K     |██████████████▌                 | 71kB 2.4MB/s eta 0:00:01\r\u001b[K     |████████████████▌               | 81kB 2.6MB/s eta 0:00:01\r\u001b[K     |██████████████████▋             | 92kB 2.8MB/s eta 0:00:01\r\u001b[K     |████████████████████▋           | 102kB 2.7MB/s eta 0:00:01\r\u001b[K     |██████████████████████▊         | 112kB 2.7MB/s eta 0:00:01\r\u001b[K     |████████████████████████▊       | 122kB 2.7MB/s eta 0:00:01\r\u001b[K     |██████████████████████████▉     | 133kB 2.7MB/s eta 0:00:01\r\u001b[K     |█████████████████████████████   | 143kB 2.7MB/s eta 0:00:01\r\u001b[K     |███████████████████████████████ | 153kB 2.7MB/s eta 0:00:01\r\u001b[K     |████████████████████████████████| 163kB 2.7MB/s \n",
            "\u001b[?25hRequirement already satisfied: numpy in /usr/local/lib/python3.6/dist-packages (from stanfordnlp) (1.18.3)\n",
            "Requirement already satisfied: requests in /usr/local/lib/python3.6/dist-packages (from stanfordnlp) (2.21.0)\n",
            "Requirement already satisfied: protobuf in /usr/local/lib/python3.6/dist-packages (from stanfordnlp) (3.10.0)\n",
            "Requirement already satisfied: torch>=1.0.0 in /usr/local/lib/python3.6/dist-packages (from stanfordnlp) (1.4.0)\n",
            "Requirement already satisfied: tqdm in /usr/local/lib/python3.6/dist-packages (from stanfordnlp) (4.38.0)\n",
            "Requirement already satisfied: chardet<3.1.0,>=3.0.2 in /usr/local/lib/python3.6/dist-packages (from requests->stanfordnlp) (3.0.4)\n",
            "Requirement already satisfied: idna<2.9,>=2.5 in /usr/local/lib/python3.6/dist-packages (from requests->stanfordnlp) (2.8)\n",
            "Requirement already satisfied: urllib3<1.25,>=1.21.1 in /usr/local/lib/python3.6/dist-packages (from requests->stanfordnlp) (1.24.3)\n",
            "Requirement already satisfied: certifi>=2017.4.17 in /usr/local/lib/python3.6/dist-packages (from requests->stanfordnlp) (2020.4.5.1)\n",
            "Requirement already satisfied: setuptools in /usr/local/lib/python3.6/dist-packages (from protobuf->stanfordnlp) (46.1.3)\n",
            "Requirement already satisfied: six>=1.9 in /usr/local/lib/python3.6/dist-packages (from protobuf->stanfordnlp) (1.12.0)\n",
            "Installing collected packages: stanfordnlp\n",
            "Successfully installed stanfordnlp-0.2.0\n"
          ],
          "name": "stdout"
        }
      ]
    },
    {
      "cell_type": "code",
      "metadata": {
        "id": "4MWMOvBOxHwb",
        "colab_type": "code",
        "outputId": "d6f8bd09-f889-4de2-f6b5-17b576b165ef",
        "colab": {
          "base_uri": "https://localhost:8080/",
          "height": 118
        }
      },
      "source": [
        "!pip install textblob\n",
        "from textblob import TextBlob, Word\n",
        "import nltk\n",
        "nltk.download('wordnet')\n",
        "word = 'stripes'\n",
        "w = Word(word)\n",
        "w.lemmatize()"
      ],
      "execution_count": 0,
      "outputs": [
        {
          "output_type": "stream",
          "text": [
            "Requirement already satisfied: textblob in /usr/local/lib/python3.6/dist-packages (0.15.3)\n",
            "Requirement already satisfied: nltk>=3.1 in /usr/local/lib/python3.6/dist-packages (from textblob) (3.2.5)\n",
            "Requirement already satisfied: six in /usr/local/lib/python3.6/dist-packages (from nltk>=3.1->textblob) (1.12.0)\n",
            "[nltk_data] Downloading package wordnet to /root/nltk_data...\n",
            "[nltk_data]   Unzipping corpora/wordnet.zip.\n"
          ],
          "name": "stdout"
        },
        {
          "output_type": "execute_result",
          "data": {
            "text/plain": [
              "'stripe'"
            ]
          },
          "metadata": {
            "tags": []
          },
          "execution_count": 4
        }
      ]
    },
    {
      "cell_type": "code",
      "metadata": {
        "id": "AQRUUzCHYlF7",
        "colab_type": "code",
        "outputId": "90165b95-71e4-446a-d37e-9da4b5997cf3",
        "colab": {
          "base_uri": "https://localhost:8080/",
          "height": 50
        }
      },
      "source": [
        "import string\n",
        "from nltk.corpus import stopwords\n",
        "from nltk import PorterStemmer as Stemmer\n",
        "import re\n",
        "import nltk\n",
        "nltk.download('stopwords')\n",
        "from textblob import TextBlob\n",
        "\n",
        "# text = u'This dog \\U0001f602'\n",
        "# print(text) # with emoji\n",
        "\n",
        "emoji_pattern = re.compile(\"[\"\n",
        "                u\"\\U0001F600-\\U0001F64F\"  # emoticons\n",
        "                u\"\\U0001F300-\\U0001F5FF\"  # symbols & pictographs\n",
        "                u\"\\U0001F680-\\U0001F6FF\"  # transport & map symbols\n",
        "                u\"\\U0001F1E0-\\U0001F1FF\"  # flags (iOS)\n",
        "                u\"\\U00002702-\\U000027B0\"\n",
        "                u\"\\U000024C2-\\U0001F251\"\n",
        "                u\"\\U0001f926-\\U0001f937\"\n",
        "                u'\\U00010000-\\U0010ffff'\n",
        "                u\"\\u200d\"\n",
        "                u\"\\u2640-\\u2642\"\n",
        "                u\"\\u2600-\\u2B55\"\n",
        "                u\"\\u23cf\"\n",
        "                u\"\\u23e9\"\n",
        "                u\"\\u231a\"\n",
        "                u\"\\u3030\"\n",
        "                u\"\\ufe0f\"\n",
        "    \"]+\", flags=re.UNICODE)\n",
        "#print(emoji_pattern.sub(r'', text)) # no emoji\n",
        "def remove_emoji(text):\n",
        "  return emoji_pattern.sub(r'', text)\n",
        "def process(text):\n",
        "    text=str(text)\n",
        "    # lowercase it\n",
        "    text = text.lower()\n",
        "    text=remove_emoji(text)\n",
        "    # remove punctuation\n",
        "    text=text.replace(\"#\", \"\").replace(\"_\", \" \")\n",
        "    text=text.replace(\"@\", \"\").replace(\"_\", \" \")\n",
        "    #data=text\n",
        "    #text = TextBlob(data).correct()\n",
        "    #text=str(text)\n",
        "    # remove stopwords\n",
        "    #text = [t for t in text.split() if t not in stopwords.words('english')]    \n",
        "    text = [Word(t).lemmatize() for t in text.split()]\n",
        "    s_text=\"\"\n",
        "    for x in text:\n",
        "      s_text=s_text+x+\" \"\n",
        "    s_text=s_text.strip()\n",
        "    # b = TextBlob(s_text)\n",
        "    # text=b.correct()\n",
        "    # return token list\n",
        "    return s_text"
      ],
      "execution_count": 0,
      "outputs": [
        {
          "output_type": "stream",
          "text": [
            "[nltk_data] Downloading package stopwords to /root/nltk_data...\n",
            "[nltk_data]   Package stopwords is already up-to-date!\n"
          ],
          "name": "stdout"
        }
      ]
    },
    {
      "cell_type": "code",
      "metadata": {
        "id": "jUvI3kh_xmo7",
        "colab_type": "code",
        "outputId": "54790267-9e03-4467-c123-a0f5d50fcd9f",
        "colab": {
          "base_uri": "https://localhost:8080/",
          "height": 34
        }
      },
      "source": [
        "process(\"TOdays, a  @quicklyz , #browns fires!\")"
      ],
      "execution_count": 0,
      "outputs": [
        {
          "output_type": "execute_result",
          "data": {
            "text/plain": [
              "'todays, a quicklyz , brown fires!'"
            ]
          },
          "metadata": {
            "tags": []
          },
          "execution_count": 25
        }
      ]
    },
    {
      "cell_type": "code",
      "metadata": {
        "id": "Fq5whojX5fH4",
        "colab_type": "code",
        "colab": {}
      },
      "source": [
        "import pandas as pd\n",
        "\n",
        "#UserInfo.tsv\n",
        "data1=pd.read_csv('/content/gdrive/My Drive/task2_en_training.tsv',delimiter='\\t',encoding='utf-8')\n",
        "data2=data1.loc[data1['class'] == 1]\n",
        "class_0=data1.loc[data1['class'] == 0]\n",
        "data2=data2.append([data2]*3, ignore_index=True)#370\n",
        "frames = [class_0, data2]\n",
        "result = pd.concat(frames)\n",
        "result= result[['tweet','class']]\n",
        "result=result.sample(frac=1)\n",
        "result.loc[result['class'] == 1]\n",
        "result.to_csv(\"/content/gdrive/My Drive/balanced_dataset1.csv\", sep=\"\\t\", index=False)"
      ],
      "execution_count": 0,
      "outputs": []
    },
    {
      "cell_type": "code",
      "metadata": {
        "id": "VA6_Xo0YdLL9",
        "colab_type": "code",
        "outputId": "d988c2eb-e38e-4dc2-b339-ba6595986943",
        "colab": {
          "base_uri": "https://localhost:8080/",
          "height": 67
        }
      },
      "source": [
        "result['tweet'][234]#.to_list()"
      ],
      "execution_count": 0,
      "outputs": [
        {
          "output_type": "execute_result",
          "data": {
            "text/plain": [
              "234    vyvanse is a hell of a drug. you get expensive...\n",
              "234    @dr_abdouli it's safer to go with what he said...\n",
              "Name: tweet, dtype: object"
            ]
          },
          "metadata": {
            "tags": []
          },
          "execution_count": 27
        }
      ]
    },
    {
      "cell_type": "code",
      "metadata": {
        "id": "vI1OcAtVgi4W",
        "colab_type": "code",
        "outputId": "190e871e-b141-4aa4-d6f6-c7f15495849d",
        "colab": {
          "base_uri": "https://localhost:8080/",
          "height": 50
        }
      },
      "source": [
        "%%time\n",
        "import pandas as pd\n",
        "import numpy as np\n",
        "#UserInfo.tsv\n",
        "df1=pd.read_csv('/content/gdrive/My Drive/balanced_dataset1.csv',delimiter='\\t',encoding='utf-8')\n",
        "df=df1\n",
        "#df['tweet'] = df['tweet'].apply(process)\n",
        "#df['tweet'].values\n",
        "\n",
        "vfunc = np.vectorize(process)\n",
        "z=vfunc(df['tweet'])"
      ],
      "execution_count": 0,
      "outputs": [
        {
          "output_type": "stream",
          "text": [
            "CPU times: user 2.97 s, sys: 16 ms, total: 2.99 s\n",
            "Wall time: 2.99 s\n"
          ],
          "name": "stdout"
        }
      ]
    },
    {
      "cell_type": "code",
      "metadata": {
        "id": "pAlsnS2gdZyN",
        "colab_type": "code",
        "outputId": "620062f0-3e0f-4119-e745-030c585bb01c",
        "colab": {
          "base_uri": "https://localhost:8080/",
          "height": 402
        }
      },
      "source": [
        "df1"
      ],
      "execution_count": 0,
      "outputs": [
        {
          "output_type": "execute_result",
          "data": {
            "text/html": [
              "<div>\n",
              "<style scoped>\n",
              "    .dataframe tbody tr th:only-of-type {\n",
              "        vertical-align: middle;\n",
              "    }\n",
              "\n",
              "    .dataframe tbody tr th {\n",
              "        vertical-align: top;\n",
              "    }\n",
              "\n",
              "    .dataframe thead th {\n",
              "        text-align: right;\n",
              "    }\n",
              "</style>\n",
              "<table border=\"1\" class=\"dataframe\">\n",
              "  <thead>\n",
              "    <tr style=\"text-align: right;\">\n",
              "      <th></th>\n",
              "      <th>tweet</th>\n",
              "      <th>class</th>\n",
              "    </tr>\n",
              "  </thead>\n",
              "  <tbody>\n",
              "    <tr>\n",
              "      <th>0</th>\n",
              "      <td>@scott_mace @mssocietyuk had  my tysabri infus...</td>\n",
              "      <td>0</td>\n",
              "    </tr>\n",
              "    <tr>\n",
              "      <th>1</th>\n",
              "      <td>enbrel monday, and even after coffee i'm still...</td>\n",
              "      <td>1</td>\n",
              "    </tr>\n",
              "    <tr>\n",
              "      <th>2</th>\n",
              "      <td>@themotleyfooluk mistakes? avandia and seroxat...</td>\n",
              "      <td>0</td>\n",
              "    </tr>\n",
              "    <tr>\n",
              "      <th>3</th>\n",
              "      <td>@tenshi_shh i take those too. :d my doctor tel...</td>\n",
              "      <td>0</td>\n",
              "    </tr>\n",
              "    <tr>\n",
              "      <th>4</th>\n",
              "      <td>@pearceholland i hope you're better soon! i'm ...</td>\n",
              "      <td>1</td>\n",
              "    </tr>\n",
              "    <tr>\n",
              "      <th>...</th>\n",
              "      <td>...</td>\n",
              "      <td>...</td>\n",
              "    </tr>\n",
              "    <tr>\n",
              "      <th>26248</th>\n",
              "      <td>@stopthatimp geodon withdrawl is hell.</td>\n",
              "      <td>1</td>\n",
              "    </tr>\n",
              "    <tr>\n",
              "      <th>26249</th>\n",
              "      <td>so much for no nicotine withdrawal. think i've...</td>\n",
              "      <td>1</td>\n",
              "    </tr>\n",
              "    <tr>\n",
              "      <th>26250</th>\n",
              "      <td>i took like 800mg of gabapentin and i can bare...</td>\n",
              "      <td>0</td>\n",
              "    </tr>\n",
              "    <tr>\n",
              "      <th>26251</th>\n",
              "      <td>@hannah_burdick want sum prozac? u can snort i...</td>\n",
              "      <td>0</td>\n",
              "    </tr>\n",
              "    <tr>\n",
              "      <th>26252</th>\n",
              "      <td>@avivadrescher taking advair on camera doesn't...</td>\n",
              "      <td>1</td>\n",
              "    </tr>\n",
              "  </tbody>\n",
              "</table>\n",
              "<p>26253 rows × 2 columns</p>\n",
              "</div>"
            ],
            "text/plain": [
              "                                                   tweet  class\n",
              "0      @scott_mace @mssocietyuk had  my tysabri infus...      0\n",
              "1      enbrel monday, and even after coffee i'm still...      1\n",
              "2      @themotleyfooluk mistakes? avandia and seroxat...      0\n",
              "3      @tenshi_shh i take those too. :d my doctor tel...      0\n",
              "4      @pearceholland i hope you're better soon! i'm ...      1\n",
              "...                                                  ...    ...\n",
              "26248             @stopthatimp geodon withdrawl is hell.      1\n",
              "26249  so much for no nicotine withdrawal. think i've...      1\n",
              "26250  i took like 800mg of gabapentin and i can bare...      0\n",
              "26251  @hannah_burdick want sum prozac? u can snort i...      0\n",
              "26252  @avivadrescher taking advair on camera doesn't...      1\n",
              "\n",
              "[26253 rows x 2 columns]"
            ]
          },
          "metadata": {
            "tags": []
          },
          "execution_count": 29
        }
      ]
    },
    {
      "cell_type": "code",
      "metadata": {
        "id": "kusf_l84jWcb",
        "colab_type": "code",
        "colab": {}
      },
      "source": [
        "df['tweet']=pd.DataFrame(z)\n",
        "df['class']=pd.DataFrame(df['class'].values)"
      ],
      "execution_count": 0,
      "outputs": []
    },
    {
      "cell_type": "code",
      "metadata": {
        "id": "AYn5uC20gxPD",
        "colab_type": "code",
        "outputId": "f633eeb3-bb8c-47ec-b42e-656090747b5b",
        "colab": {
          "base_uri": "https://localhost:8080/",
          "height": 402
        }
      },
      "source": [
        "df"
      ],
      "execution_count": 0,
      "outputs": [
        {
          "output_type": "execute_result",
          "data": {
            "text/html": [
              "<div>\n",
              "<style scoped>\n",
              "    .dataframe tbody tr th:only-of-type {\n",
              "        vertical-align: middle;\n",
              "    }\n",
              "\n",
              "    .dataframe tbody tr th {\n",
              "        vertical-align: top;\n",
              "    }\n",
              "\n",
              "    .dataframe thead th {\n",
              "        text-align: right;\n",
              "    }\n",
              "</style>\n",
              "<table border=\"1\" class=\"dataframe\">\n",
              "  <thead>\n",
              "    <tr style=\"text-align: right;\">\n",
              "      <th></th>\n",
              "      <th>tweet</th>\n",
              "      <th>class</th>\n",
              "    </tr>\n",
              "  </thead>\n",
              "  <tbody>\n",
              "    <tr>\n",
              "      <th>0</th>\n",
              "      <td>scott mace mssocietyuk had my tysabri infusion...</td>\n",
              "      <td>0</td>\n",
              "    </tr>\n",
              "    <tr>\n",
              "      <th>1</th>\n",
              "      <td>enbrel monday, and even after coffee i'm still...</td>\n",
              "      <td>1</td>\n",
              "    </tr>\n",
              "    <tr>\n",
              "      <th>2</th>\n",
              "      <td>themotleyfooluk mistakes? avandia and seroxat ...</td>\n",
              "      <td>0</td>\n",
              "    </tr>\n",
              "    <tr>\n",
              "      <th>3</th>\n",
              "      <td>tenshi shh i take those too. :d my doctor tell...</td>\n",
              "      <td>0</td>\n",
              "    </tr>\n",
              "    <tr>\n",
              "      <th>4</th>\n",
              "      <td>pearceholland i hope you're better soon! i'm s...</td>\n",
              "      <td>1</td>\n",
              "    </tr>\n",
              "    <tr>\n",
              "      <th>...</th>\n",
              "      <td>...</td>\n",
              "      <td>...</td>\n",
              "    </tr>\n",
              "    <tr>\n",
              "      <th>26248</th>\n",
              "      <td>stopthatimp geodon withdrawl is hell.</td>\n",
              "      <td>1</td>\n",
              "    </tr>\n",
              "    <tr>\n",
              "      <th>26249</th>\n",
              "      <td>so much for no nicotine withdrawal. think i've...</td>\n",
              "      <td>1</td>\n",
              "    </tr>\n",
              "    <tr>\n",
              "      <th>26250</th>\n",
              "      <td>i took like 800mg of gabapentin and i can bare...</td>\n",
              "      <td>0</td>\n",
              "    </tr>\n",
              "    <tr>\n",
              "      <th>26251</th>\n",
              "      <td>hannah burdick want sum prozac? u can snort it ;)</td>\n",
              "      <td>0</td>\n",
              "    </tr>\n",
              "    <tr>\n",
              "      <th>26252</th>\n",
              "      <td>avivadrescher taking advair on camera doesn't ...</td>\n",
              "      <td>1</td>\n",
              "    </tr>\n",
              "  </tbody>\n",
              "</table>\n",
              "<p>26253 rows × 2 columns</p>\n",
              "</div>"
            ],
            "text/plain": [
              "                                                   tweet  class\n",
              "0      scott mace mssocietyuk had my tysabri infusion...      0\n",
              "1      enbrel monday, and even after coffee i'm still...      1\n",
              "2      themotleyfooluk mistakes? avandia and seroxat ...      0\n",
              "3      tenshi shh i take those too. :d my doctor tell...      0\n",
              "4      pearceholland i hope you're better soon! i'm s...      1\n",
              "...                                                  ...    ...\n",
              "26248              stopthatimp geodon withdrawl is hell.      1\n",
              "26249  so much for no nicotine withdrawal. think i've...      1\n",
              "26250  i took like 800mg of gabapentin and i can bare...      0\n",
              "26251  hannah burdick want sum prozac? u can snort it ;)      0\n",
              "26252  avivadrescher taking advair on camera doesn't ...      1\n",
              "\n",
              "[26253 rows x 2 columns]"
            ]
          },
          "metadata": {
            "tags": []
          },
          "execution_count": 31
        }
      ]
    },
    {
      "cell_type": "code",
      "metadata": {
        "id": "bfCBRgoQJ5mp",
        "colab_type": "code",
        "colab": {}
      },
      "source": [
        "df.to_csv(\"/content/gdrive/My Drive/balanced_cleaned_dataset1.csv\", index=False,encoding='utf-8')"
      ],
      "execution_count": 0,
      "outputs": []
    },
    {
      "cell_type": "code",
      "metadata": {
        "id": "iQgjoxNqJ9xQ",
        "colab_type": "code",
        "colab": {}
      },
      "source": [
        "import pandas as pd\n",
        "\n",
        "#UserInfo.tsv\n",
        "data1=pd.read_csv('/content/gdrive/My Drive/task2_en_validation.tsv',delimiter='\\t',encoding='utf-8')\n",
        "data1= data1[['tweet','class']]\n",
        "result=data1"
      ],
      "execution_count": 0,
      "outputs": []
    },
    {
      "cell_type": "code",
      "metadata": {
        "id": "2OBm9cFelxUQ",
        "colab_type": "code",
        "outputId": "bb25793d-e093-4877-9138-a3ce5d58d377",
        "colab": {
          "base_uri": "https://localhost:8080/",
          "height": 402
        }
      },
      "source": [
        "result"
      ],
      "execution_count": 0,
      "outputs": [
        {
          "output_type": "execute_result",
          "data": {
            "text/html": [
              "<div>\n",
              "<style scoped>\n",
              "    .dataframe tbody tr th:only-of-type {\n",
              "        vertical-align: middle;\n",
              "    }\n",
              "\n",
              "    .dataframe tbody tr th {\n",
              "        vertical-align: top;\n",
              "    }\n",
              "\n",
              "    .dataframe thead th {\n",
              "        text-align: right;\n",
              "    }\n",
              "</style>\n",
              "<table border=\"1\" class=\"dataframe\">\n",
              "  <thead>\n",
              "    <tr style=\"text-align: right;\">\n",
              "      <th></th>\n",
              "      <th>tweet</th>\n",
              "      <th>class</th>\n",
              "    </tr>\n",
              "  </thead>\n",
              "  <tbody>\n",
              "    <tr>\n",
              "      <th>0</th>\n",
              "      <td>i don't fucking need humira</td>\n",
              "      <td>0</td>\n",
              "    </tr>\n",
              "    <tr>\n",
              "      <th>1</th>\n",
              "      <td>my retake is next friday, if i bloody fail aga...</td>\n",
              "      <td>0</td>\n",
              "    </tr>\n",
              "    <tr>\n",
              "      <th>2</th>\n",
              "      <td>@doctorchristian scared to start fluoxetine, w...</td>\n",
              "      <td>0</td>\n",
              "    </tr>\n",
              "    <tr>\n",
              "      <th>3</th>\n",
              "      <td>@intuitivegal1 ok, if you stopped taking the l...</td>\n",
              "      <td>0</td>\n",
              "    </tr>\n",
              "    <tr>\n",
              "      <th>4</th>\n",
              "      <td>novartis announces secukinumab (ain457) demons...</td>\n",
              "      <td>0</td>\n",
              "    </tr>\n",
              "    <tr>\n",
              "      <th>...</th>\n",
              "      <td>...</td>\n",
              "      <td>...</td>\n",
              "    </tr>\n",
              "    <tr>\n",
              "      <th>5129</th>\n",
              "      <td>@crohns_twins that sucks. humira made me so si...</td>\n",
              "      <td>1</td>\n",
              "    </tr>\n",
              "    <tr>\n",
              "      <th>5130</th>\n",
              "      <td>i've had no appetite since i started on prozac...</td>\n",
              "      <td>1</td>\n",
              "    </tr>\n",
              "    <tr>\n",
              "      <th>5131</th>\n",
              "      <td>takin anbien &amp;amp;seroquel for bad insomnia gi...</td>\n",
              "      <td>1</td>\n",
              "    </tr>\n",
              "    <tr>\n",
              "      <th>5132</th>\n",
              "      <td>note to self - nicotine lozenge &amp;amp; alcohol ...</td>\n",
              "      <td>1</td>\n",
              "    </tr>\n",
              "    <tr>\n",
              "      <th>5133</th>\n",
              "      <td>act now and get our deluxe cyde-fx set absolut...</td>\n",
              "      <td>1</td>\n",
              "    </tr>\n",
              "  </tbody>\n",
              "</table>\n",
              "<p>5134 rows × 2 columns</p>\n",
              "</div>"
            ],
            "text/plain": [
              "                                                  tweet  class\n",
              "0                           i don't fucking need humira      0\n",
              "1     my retake is next friday, if i bloody fail aga...      0\n",
              "2     @doctorchristian scared to start fluoxetine, w...      0\n",
              "3     @intuitivegal1 ok, if you stopped taking the l...      0\n",
              "4     novartis announces secukinumab (ain457) demons...      0\n",
              "...                                                 ...    ...\n",
              "5129  @crohns_twins that sucks. humira made me so si...      1\n",
              "5130  i've had no appetite since i started on prozac...      1\n",
              "5131  takin anbien &amp;seroquel for bad insomnia gi...      1\n",
              "5132  note to self - nicotine lozenge &amp; alcohol ...      1\n",
              "5133  act now and get our deluxe cyde-fx set absolut...      1\n",
              "\n",
              "[5134 rows x 2 columns]"
            ]
          },
          "metadata": {
            "tags": []
          },
          "execution_count": 34
        }
      ]
    },
    {
      "cell_type": "code",
      "metadata": {
        "id": "e6Vy3POTh_jw",
        "colab_type": "code",
        "outputId": "62705682-64af-4819-c906-e4282a2fba3b",
        "colab": {
          "base_uri": "https://localhost:8080/",
          "height": 50
        }
      },
      "source": [
        "%%time\n",
        "import pandas as pd\n",
        "import numpy as np\n",
        "#UserInfo.tsv\n",
        "df1=result\n",
        "df=df1\n",
        "#df['tweet'] = df['tweet'].apply(process)\n",
        "#df['tweet'].values\n",
        "\n",
        "vfunc = np.vectorize(process)\n",
        "z=vfunc(df['tweet'])"
      ],
      "execution_count": 0,
      "outputs": [
        {
          "output_type": "stream",
          "text": [
            "CPU times: user 563 ms, sys: 442 µs, total: 563 ms\n",
            "Wall time: 564 ms\n"
          ],
          "name": "stdout"
        }
      ]
    },
    {
      "cell_type": "code",
      "metadata": {
        "id": "tjXykpuuiAP2",
        "colab_type": "code",
        "colab": {}
      },
      "source": [
        "df['tweet']=pd.DataFrame(z)\n",
        "df['class']=pd.DataFrame(df['class'].values)\n",
        "df.to_csv(\"/content/gdrive/My Drive/test_cleaned_dataset1.csv\", index=False,encoding='utf-8')"
      ],
      "execution_count": 0,
      "outputs": []
    },
    {
      "cell_type": "code",
      "metadata": {
        "id": "6LsYbxvdis4b",
        "colab_type": "code",
        "outputId": "880ee724-b0f9-41e0-cd8d-e3c230a8b44d",
        "colab": {
          "base_uri": "https://localhost:8080/",
          "height": 402
        }
      },
      "source": [
        "df"
      ],
      "execution_count": 0,
      "outputs": [
        {
          "output_type": "execute_result",
          "data": {
            "text/html": [
              "<div>\n",
              "<style scoped>\n",
              "    .dataframe tbody tr th:only-of-type {\n",
              "        vertical-align: middle;\n",
              "    }\n",
              "\n",
              "    .dataframe tbody tr th {\n",
              "        vertical-align: top;\n",
              "    }\n",
              "\n",
              "    .dataframe thead th {\n",
              "        text-align: right;\n",
              "    }\n",
              "</style>\n",
              "<table border=\"1\" class=\"dataframe\">\n",
              "  <thead>\n",
              "    <tr style=\"text-align: right;\">\n",
              "      <th></th>\n",
              "      <th>tweet</th>\n",
              "      <th>class</th>\n",
              "    </tr>\n",
              "  </thead>\n",
              "  <tbody>\n",
              "    <tr>\n",
              "      <th>0</th>\n",
              "      <td>i don't fucking need humira</td>\n",
              "      <td>0</td>\n",
              "    </tr>\n",
              "    <tr>\n",
              "      <th>1</th>\n",
              "      <td>my retake is next friday, if i bloody fail aga...</td>\n",
              "      <td>0</td>\n",
              "    </tr>\n",
              "    <tr>\n",
              "      <th>2</th>\n",
              "      <td>doctorchristian scared to start fluoxetine, wh...</td>\n",
              "      <td>0</td>\n",
              "    </tr>\n",
              "    <tr>\n",
              "      <th>3</th>\n",
              "      <td>intuitivegal1 ok, if you stopped taking the la...</td>\n",
              "      <td>0</td>\n",
              "    </tr>\n",
              "    <tr>\n",
              "      <th>4</th>\n",
              "      <td>novartis announces secukinumab (ain457) demons...</td>\n",
              "      <td>0</td>\n",
              "    </tr>\n",
              "    <tr>\n",
              "      <th>...</th>\n",
              "      <td>...</td>\n",
              "      <td>...</td>\n",
              "    </tr>\n",
              "    <tr>\n",
              "      <th>5129</th>\n",
              "      <td>crohn twin that sucks. humira made me so sick....</td>\n",
              "      <td>1</td>\n",
              "    </tr>\n",
              "    <tr>\n",
              "      <th>5130</th>\n",
              "      <td>i've had no appetite since i started on prozac...</td>\n",
              "      <td>1</td>\n",
              "    </tr>\n",
              "    <tr>\n",
              "      <th>5131</th>\n",
              "      <td>takin anbien &amp;amp;seroquel for bad insomnia gi...</td>\n",
              "      <td>1</td>\n",
              "    </tr>\n",
              "    <tr>\n",
              "      <th>5132</th>\n",
              "      <td>note to self - nicotine lozenge &amp;amp; alcohol ...</td>\n",
              "      <td>1</td>\n",
              "    </tr>\n",
              "    <tr>\n",
              "      <th>5133</th>\n",
              "      <td>act now and get our deluxe cyde-fx set absolut...</td>\n",
              "      <td>1</td>\n",
              "    </tr>\n",
              "  </tbody>\n",
              "</table>\n",
              "<p>5134 rows × 2 columns</p>\n",
              "</div>"
            ],
            "text/plain": [
              "                                                  tweet  class\n",
              "0                           i don't fucking need humira      0\n",
              "1     my retake is next friday, if i bloody fail aga...      0\n",
              "2     doctorchristian scared to start fluoxetine, wh...      0\n",
              "3     intuitivegal1 ok, if you stopped taking the la...      0\n",
              "4     novartis announces secukinumab (ain457) demons...      0\n",
              "...                                                 ...    ...\n",
              "5129  crohn twin that sucks. humira made me so sick....      1\n",
              "5130  i've had no appetite since i started on prozac...      1\n",
              "5131  takin anbien &amp;seroquel for bad insomnia gi...      1\n",
              "5132  note to self - nicotine lozenge &amp; alcohol ...      1\n",
              "5133  act now and get our deluxe cyde-fx set absolut...      1\n",
              "\n",
              "[5134 rows x 2 columns]"
            ]
          },
          "metadata": {
            "tags": []
          },
          "execution_count": 37
        }
      ]
    },
    {
      "cell_type": "code",
      "metadata": {
        "id": "sv9MCmukDtOR",
        "colab_type": "code",
        "colab": {}
      },
      "source": [
        ""
      ],
      "execution_count": 0,
      "outputs": []
    }
  ]
}