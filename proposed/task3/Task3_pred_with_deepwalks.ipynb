{
  "nbformat": 4,
  "nbformat_minor": 0,
  "metadata": {
    "colab": {
      "name": "with actual given extractions Task3withdeepwalks.ipynb",
      "provenance": []
    },
    "kernelspec": {
      "name": "python3",
      "display_name": "Python 3"
    }
  },
  "cells": [
    {
      "cell_type": "code",
      "metadata": {
        "id": "R6gCGhpYyVAI",
        "colab_type": "code",
        "outputId": "5b894069-59b8-41c6-89e7-23e0564893d5",
        "colab": {
          "base_uri": "https://localhost:8080/",
          "height": 34
        }
      },
      "source": [
        "from google.colab import drive\n",
        "drive.mount('/content/gdrive')"
      ],
      "execution_count": 0,
      "outputs": [
        {
          "output_type": "stream",
          "text": [
            "Mounted at /content/gdrive\n"
          ],
          "name": "stdout"
        }
      ]
    },
    {
      "cell_type": "code",
      "metadata": {
        "id": "2FbdfJp8qAn9",
        "colab_type": "code",
        "outputId": "20780fda-7336-4dc0-9ec7-5b7e9147439d",
        "colab": {
          "base_uri": "https://localhost:8080/",
          "height": 70
        }
      },
      "source": [
        "from gensim.models import Word2Vec\n",
        "from gensim.models.callbacks import CallbackAny2Vec\n",
        "class EpochLogger(CallbackAny2Vec):\n",
        "  '''Callback to log information about training'''\n",
        "  def __init__(self):\n",
        "    self.epoch = 0\n",
        "  \n",
        "  def on_epoch_begin(self, model):\n",
        "    print(\"Epoch #{} start\".format(self.epoch))\n",
        "    \n",
        "  def on_epoch_end(self, model):\n",
        "    print(\"Epoch #{} end\".format(self.epoch))\n",
        "    self.epoch += 1\n",
        "epoch_logger = EpochLogger()\n",
        "deepwalk = Word2Vec.load(\"/content/gdrive/My Drive/Task3/deepwalkwithoutmesh.model\")\n",
        "deepvocab= deepwalk.wv.vocab"
      ],
      "execution_count": 0,
      "outputs": [
        {
          "output_type": "stream",
          "text": [
            "/usr/local/lib/python3.6/dist-packages/smart_open/smart_open_lib.py:253: UserWarning: This function is deprecated, use smart_open.open instead. See the migration notes for details: https://github.com/RaRe-Technologies/smart_open/blob/master/README.rst#migrating-to-the-new-open-function\n",
            "  'See the migration notes for details: %s' % _MIGRATION_NOTES_URL\n"
          ],
          "name": "stderr"
        }
      ]
    },
    {
      "cell_type": "code",
      "metadata": {
        "id": "DvOsoFdoRdcb",
        "colab_type": "code",
        "outputId": "0753fb9b-e5e4-44da-f5b5-10c6b87ee35f",
        "colab": {
          "base_uri": "https://localhost:8080/",
          "height": 272
        }
      },
      "source": [
        "deepwalk.similar_by_word('back')"
      ],
      "execution_count": 0,
      "outputs": [
        {
          "output_type": "stream",
          "text": [
            "/usr/local/lib/python3.6/dist-packages/ipykernel_launcher.py:1: DeprecationWarning: Call to deprecated `similar_by_word` (Method will be removed in 4.0.0, use self.wv.similar_by_word() instead).\n",
            "  \"\"\"Entry point for launching an IPython kernel.\n",
            "/usr/local/lib/python3.6/dist-packages/gensim/matutils.py:737: FutureWarning: Conversion of the second argument of issubdtype from `int` to `np.signedinteger` is deprecated. In future, it will be treated as `np.int64 == np.dtype(int).type`.\n",
            "  if np.issubdtype(vec.dtype, np.int):\n"
          ],
          "name": "stderr"
        },
        {
          "output_type": "execute_result",
          "data": {
            "text/plain": [
              "[('10003978.0', 0.8104172945022583),\n",
              " ('10024891.0', 0.807929277420044),\n",
              " ('10003988.0', 0.7950490117073059),\n",
              " ('lower', 0.7649259567260742),\n",
              " ('10024890.0', 0.7393198609352112),\n",
              " ('low', 0.7236460447311401),\n",
              " ('10000424.0', 0.7200608849525452),\n",
              " ('neck', 0.7181693911552429),\n",
              " ('10038194.0', 0.6881814002990723),\n",
              " ('10028836.0', 0.6857696771621704)]"
            ]
          },
          "metadata": {
            "tags": []
          },
          "execution_count": 54
        }
      ]
    },
    {
      "cell_type": "code",
      "metadata": {
        "id": "8bpxVjiMIb-p",
        "colab_type": "code",
        "outputId": "d2161dd0-c587-4289-c19e-813696053105",
        "colab": {
          "base_uri": "https://localhost:8080/",
          "height": 34
        }
      },
      "source": [
        "from google.colab import drive\n",
        "drive.mount('/content/drive')"
      ],
      "execution_count": 0,
      "outputs": [
        {
          "output_type": "stream",
          "text": [
            "Mounted at /content/drive\n"
          ],
          "name": "stdout"
        }
      ]
    },
    {
      "cell_type": "code",
      "metadata": {
        "id": "1-35MbpTMNBO",
        "colab_type": "code",
        "outputId": "9d05eb72-de31-4a98-a54f-2787647bfeca",
        "colab": {
          "base_uri": "https://localhost:8080/",
          "height": 118
        }
      },
      "source": [
        "!pip install tweet-preprocessor\n",
        "!pip install autocorrect\n",
        "import preprocessor as p\n",
        "p.set_options(p.OPT.URL, p.OPT.EMOJI, p.OPT.MENTION)\n",
        "from textblob import Word, TextBlob\n",
        "import string\n",
        "import re\n",
        "import nltk\n",
        "from nltk.corpus import stopwords\n",
        "nltk.download('wordnet')\n",
        "nltk.download('stopwords')\n",
        "\n",
        "\n",
        "def lemma(text):\n",
        "  s=\"\"\n",
        "  for x in text.split():\n",
        "    if(x==\"rt\"):\n",
        "      continue\n",
        "    else:\n",
        "      u=Word(x)\n",
        "      b = TextBlob(u.lemmatize())\n",
        "      z=str(b.correct())\n",
        "      s=s+z+\" \"\n",
        "  return s.strip()\n",
        "#print(emoji_pattern.sub(r'', text)) # no emoji\n",
        "\n",
        "\n",
        "\n",
        "def process(text):\n",
        "  text = p.clean(str(text))\n",
        "  text= re.sub(r'\\s([@][\\w_-]+)', '', text, flags=re.MULTILINE)\n",
        "  text = ''.join([t for t in text if t not in string.punctuation])\n",
        "  x=text.lower()\n",
        "  text=x\n",
        "  li=stopwords.words('english')\n",
        "  li.append(\"feel\")\n",
        "  li.append(\"feels\")\n",
        "  li.append(\"feeling\")\n",
        "  li.append(\"like\")\n",
        "  text = [t for t in text.split() if t not in li]\n",
        "  #b = TextBlob(x)\n",
        "  #text=str(b.correct())\n",
        "  x=\"\"\n",
        "  for z in text:\n",
        "    x=x+z+\" \"\n",
        "  text=lemma(x.strip())\n",
        "  return text"
      ],
      "execution_count": 0,
      "outputs": [
        {
          "output_type": "stream",
          "text": [
            "Requirement already satisfied: tweet-preprocessor in /usr/local/lib/python3.6/dist-packages (0.5.0)\n",
            "Requirement already satisfied: autocorrect in /usr/local/lib/python3.6/dist-packages (1.1.0)\n",
            "[nltk_data] Downloading package wordnet to /root/nltk_data...\n",
            "[nltk_data]   Package wordnet is already up-to-date!\n",
            "[nltk_data] Downloading package stopwords to /root/nltk_data...\n",
            "[nltk_data]   Package stopwords is already up-to-date!\n"
          ],
          "name": "stdout"
        }
      ]
    },
    {
      "cell_type": "code",
      "metadata": {
        "id": "01QeeLPUpTYR",
        "colab_type": "code",
        "colab": {}
      },
      "source": [
        "import pandas as pd\n",
        "test=pd.read_csv('/content/drive/My Drive/task3_validation.tsv',delimiter='\\t',encoding='utf-8')"
      ],
      "execution_count": 0,
      "outputs": []
    },
    {
      "cell_type": "code",
      "metadata": {
        "id": "iWsbNGcILdhR",
        "colab_type": "code",
        "colab": {}
      },
      "source": [
        "test = test.filter(['tweet_id','begin','end','type','extraction','drug','tweet','meddra_code','meddra_term'])\n",
        "test = test[test['meddra_term'].notna()]"
      ],
      "execution_count": 0,
      "outputs": []
    },
    {
      "cell_type": "code",
      "metadata": {
        "id": "iggKH3rvLlu5",
        "colab_type": "code",
        "outputId": "1894d302-c936-438a-e4a7-3781fbcf1101",
        "colab": {
          "base_uri": "https://localhost:8080/",
          "height": 502
        }
      },
      "source": [
        "test"
      ],
      "execution_count": 0,
      "outputs": [
        {
          "output_type": "execute_result",
          "data": {
            "text/html": [
              "<div>\n",
              "<style scoped>\n",
              "    .dataframe tbody tr th:only-of-type {\n",
              "        vertical-align: middle;\n",
              "    }\n",
              "\n",
              "    .dataframe tbody tr th {\n",
              "        vertical-align: top;\n",
              "    }\n",
              "\n",
              "    .dataframe thead th {\n",
              "        text-align: right;\n",
              "    }\n",
              "</style>\n",
              "<table border=\"1\" class=\"dataframe\">\n",
              "  <thead>\n",
              "    <tr style=\"text-align: right;\">\n",
              "      <th></th>\n",
              "      <th>tweet_id</th>\n",
              "      <th>begin</th>\n",
              "      <th>end</th>\n",
              "      <th>type</th>\n",
              "      <th>extraction</th>\n",
              "      <th>drug</th>\n",
              "      <th>tweet</th>\n",
              "      <th>meddra_code</th>\n",
              "      <th>meddra_term</th>\n",
              "    </tr>\n",
              "  </thead>\n",
              "  <tbody>\n",
              "    <tr>\n",
              "      <th>0</th>\n",
              "      <td>332317478170546176</td>\n",
              "      <td>28.0</td>\n",
              "      <td>37.0</td>\n",
              "      <td>ADR</td>\n",
              "      <td>allergies</td>\n",
              "      <td>avelox</td>\n",
              "      <td>do you have any medication allergies? \"asthma!...</td>\n",
              "      <td>10013661.0</td>\n",
              "      <td>drug allergy</td>\n",
              "    </tr>\n",
              "    <tr>\n",
              "      <th>1</th>\n",
              "      <td>347806215776116737</td>\n",
              "      <td>31.0</td>\n",
              "      <td>46.0</td>\n",
              "      <td>ADR</td>\n",
              "      <td>HURT YOUR Liver</td>\n",
              "      <td>avelox</td>\n",
              "      <td>@ashleylvivian if #avelox has hurt your liver,...</td>\n",
              "      <td>10024668.0</td>\n",
              "      <td>liver damage</td>\n",
              "    </tr>\n",
              "    <tr>\n",
              "      <th>2</th>\n",
              "      <td>350336129817509888</td>\n",
              "      <td>48.0</td>\n",
              "      <td>50.0</td>\n",
              "      <td>ADR</td>\n",
              "      <td>AD</td>\n",
              "      <td>baclofen</td>\n",
              "      <td>apparently, baclofen greatly exacerbates the \"...</td>\n",
              "      <td>10003731.0</td>\n",
              "      <td>attention deficit disorder</td>\n",
              "    </tr>\n",
              "    <tr>\n",
              "      <th>3</th>\n",
              "      <td>350336129817509888</td>\n",
              "      <td>88.0</td>\n",
              "      <td>93.0</td>\n",
              "      <td>ADR</td>\n",
              "      <td>focus</td>\n",
              "      <td>baclofen</td>\n",
              "      <td>apparently, baclofen greatly exacerbates the \"...</td>\n",
              "      <td>10003738.0</td>\n",
              "      <td>attention impaired</td>\n",
              "    </tr>\n",
              "    <tr>\n",
              "      <th>4</th>\n",
              "      <td>332540699692130304</td>\n",
              "      <td>11.0</td>\n",
              "      <td>15.0</td>\n",
              "      <td>ADR</td>\n",
              "      <td>died</td>\n",
              "      <td>cipro</td>\n",
              "      <td>pt of mine died from cipro rt @ciproispoison: ...</td>\n",
              "      <td>10011906.0</td>\n",
              "      <td>death</td>\n",
              "    </tr>\n",
              "    <tr>\n",
              "      <th>...</th>\n",
              "      <td>...</td>\n",
              "      <td>...</td>\n",
              "      <td>...</td>\n",
              "      <td>...</td>\n",
              "      <td>...</td>\n",
              "      <td>...</td>\n",
              "      <td>...</td>\n",
              "      <td>...</td>\n",
              "      <td>...</td>\n",
              "    </tr>\n",
              "    <tr>\n",
              "      <th>390</th>\n",
              "      <td>342283136480206848</td>\n",
              "      <td>110.0</td>\n",
              "      <td>122.0</td>\n",
              "      <td>ADR</td>\n",
              "      <td>hypochondria</td>\n",
              "      <td>baclofen</td>\n",
              "      <td>hmm, interesting. i may have been undergoing b...</td>\n",
              "      <td>10020965.0</td>\n",
              "      <td>hypochondriasis</td>\n",
              "    </tr>\n",
              "    <tr>\n",
              "      <th>391</th>\n",
              "      <td>342283136480206848</td>\n",
              "      <td>55.0</td>\n",
              "      <td>65.0</td>\n",
              "      <td>ADR</td>\n",
              "      <td>withdrawal</td>\n",
              "      <td>baclofen</td>\n",
              "      <td>hmm, interesting. i may have been undergoing b...</td>\n",
              "      <td>10048010.0</td>\n",
              "      <td>withdrawal syndrome</td>\n",
              "    </tr>\n",
              "    <tr>\n",
              "      <th>392</th>\n",
              "      <td>342299048105091072</td>\n",
              "      <td>11.0</td>\n",
              "      <td>14.0</td>\n",
              "      <td>ADR</td>\n",
              "      <td>low</td>\n",
              "      <td>vyvanse</td>\n",
              "      <td>i hate the low after the high on vyvanse</td>\n",
              "      <td>10024919.0</td>\n",
              "      <td>low mood</td>\n",
              "    </tr>\n",
              "    <tr>\n",
              "      <th>393</th>\n",
              "      <td>342310086363983873</td>\n",
              "      <td>34.0</td>\n",
              "      <td>45.0</td>\n",
              "      <td>ADR</td>\n",
              "      <td>weight gain</td>\n",
              "      <td>tysabri</td>\n",
              "      <td>on a related note: tysabri causes weight gain....</td>\n",
              "      <td>10047896.0</td>\n",
              "      <td>weight gain</td>\n",
              "    </tr>\n",
              "    <tr>\n",
              "      <th>394</th>\n",
              "      <td>342314998904786945</td>\n",
              "      <td>87.0</td>\n",
              "      <td>96.0</td>\n",
              "      <td>ADR</td>\n",
              "      <td>brain zap</td>\n",
              "      <td>cymbalta</td>\n",
              "      <td>#cymbalta withdrawal has reached a peak, lost ...</td>\n",
              "      <td>10014358.0</td>\n",
              "      <td>electric shock sensation</td>\n",
              "    </tr>\n",
              "  </tbody>\n",
              "</table>\n",
              "<p>365 rows × 9 columns</p>\n",
              "</div>"
            ],
            "text/plain": [
              "               tweet_id  begin  ...  meddra_code                 meddra_term\n",
              "0    332317478170546176   28.0  ...   10013661.0                drug allergy\n",
              "1    347806215776116737   31.0  ...   10024668.0                liver damage\n",
              "2    350336129817509888   48.0  ...   10003731.0  attention deficit disorder\n",
              "3    350336129817509888   88.0  ...   10003738.0          attention impaired\n",
              "4    332540699692130304   11.0  ...   10011906.0                       death\n",
              "..                  ...    ...  ...          ...                         ...\n",
              "390  342283136480206848  110.0  ...   10020965.0             hypochondriasis\n",
              "391  342283136480206848   55.0  ...   10048010.0         withdrawal syndrome\n",
              "392  342299048105091072   11.0  ...   10024919.0                    low mood\n",
              "393  342310086363983873   34.0  ...   10047896.0                 weight gain\n",
              "394  342314998904786945   87.0  ...   10014358.0    electric shock sensation\n",
              "\n",
              "[365 rows x 9 columns]"
            ]
          },
          "metadata": {
            "tags": []
          },
          "execution_count": 59
        }
      ]
    },
    {
      "cell_type": "code",
      "metadata": {
        "id": "dkaDqFItLnqz",
        "colab_type": "code",
        "colab": {}
      },
      "source": [
        "test['extraction'] = test['extraction'].apply(process)"
      ],
      "execution_count": 0,
      "outputs": []
    },
    {
      "cell_type": "code",
      "metadata": {
        "id": "ol3P-4iSMIZY",
        "colab_type": "code",
        "colab": {}
      },
      "source": [
        "test['meddra_code'] = test['meddra_code'].apply(lambda x: str(x))"
      ],
      "execution_count": 0,
      "outputs": []
    },
    {
      "cell_type": "code",
      "metadata": {
        "id": "06R1WoPqMXvf",
        "colab_type": "code",
        "colab": {}
      },
      "source": [
        "test['drug'] = test['drug'].apply(process)"
      ],
      "execution_count": 0,
      "outputs": []
    },
    {
      "cell_type": "code",
      "metadata": {
        "id": "UdphVPMCMdiY",
        "colab_type": "code",
        "outputId": "a748568a-0bfe-4758-f18e-c8bd48e1ca92",
        "colab": {
          "base_uri": "https://localhost:8080/",
          "height": 402
        }
      },
      "source": [
        "test"
      ],
      "execution_count": 0,
      "outputs": [
        {
          "output_type": "execute_result",
          "data": {
            "text/html": [
              "<div>\n",
              "<style scoped>\n",
              "    .dataframe tbody tr th:only-of-type {\n",
              "        vertical-align: middle;\n",
              "    }\n",
              "\n",
              "    .dataframe tbody tr th {\n",
              "        vertical-align: top;\n",
              "    }\n",
              "\n",
              "    .dataframe thead th {\n",
              "        text-align: right;\n",
              "    }\n",
              "</style>\n",
              "<table border=\"1\" class=\"dataframe\">\n",
              "  <thead>\n",
              "    <tr style=\"text-align: right;\">\n",
              "      <th></th>\n",
              "      <th>tweet_id</th>\n",
              "      <th>begin</th>\n",
              "      <th>end</th>\n",
              "      <th>type</th>\n",
              "      <th>extraction</th>\n",
              "      <th>drug</th>\n",
              "      <th>tweet</th>\n",
              "      <th>meddra_code</th>\n",
              "      <th>meddra_term</th>\n",
              "    </tr>\n",
              "  </thead>\n",
              "  <tbody>\n",
              "    <tr>\n",
              "      <th>0</th>\n",
              "      <td>332317478170546176</td>\n",
              "      <td>28.0</td>\n",
              "      <td>37.0</td>\n",
              "      <td>ADR</td>\n",
              "      <td>clergy</td>\n",
              "      <td>avelox</td>\n",
              "      <td>do you have any medication allergies? \"asthma!...</td>\n",
              "      <td>10013661.0</td>\n",
              "      <td>drug allergy</td>\n",
              "    </tr>\n",
              "    <tr>\n",
              "      <th>1</th>\n",
              "      <td>347806215776116737</td>\n",
              "      <td>31.0</td>\n",
              "      <td>46.0</td>\n",
              "      <td>ADR</td>\n",
              "      <td>hurt liver</td>\n",
              "      <td>avelox</td>\n",
              "      <td>@ashleylvivian if #avelox has hurt your liver,...</td>\n",
              "      <td>10024668.0</td>\n",
              "      <td>liver damage</td>\n",
              "    </tr>\n",
              "    <tr>\n",
              "      <th>2</th>\n",
              "      <td>350336129817509888</td>\n",
              "      <td>48.0</td>\n",
              "      <td>50.0</td>\n",
              "      <td>ADR</td>\n",
              "      <td>ad</td>\n",
              "      <td>baclofen</td>\n",
              "      <td>apparently, baclofen greatly exacerbates the \"...</td>\n",
              "      <td>10003731.0</td>\n",
              "      <td>attention deficit disorder</td>\n",
              "    </tr>\n",
              "    <tr>\n",
              "      <th>3</th>\n",
              "      <td>350336129817509888</td>\n",
              "      <td>88.0</td>\n",
              "      <td>93.0</td>\n",
              "      <td>ADR</td>\n",
              "      <td>focus</td>\n",
              "      <td>baclofen</td>\n",
              "      <td>apparently, baclofen greatly exacerbates the \"...</td>\n",
              "      <td>10003738.0</td>\n",
              "      <td>attention impaired</td>\n",
              "    </tr>\n",
              "    <tr>\n",
              "      <th>4</th>\n",
              "      <td>332540699692130304</td>\n",
              "      <td>11.0</td>\n",
              "      <td>15.0</td>\n",
              "      <td>ADR</td>\n",
              "      <td>died</td>\n",
              "      <td>micro</td>\n",
              "      <td>pt of mine died from cipro rt @ciproispoison: ...</td>\n",
              "      <td>10011906.0</td>\n",
              "      <td>death</td>\n",
              "    </tr>\n",
              "    <tr>\n",
              "      <th>...</th>\n",
              "      <td>...</td>\n",
              "      <td>...</td>\n",
              "      <td>...</td>\n",
              "      <td>...</td>\n",
              "      <td>...</td>\n",
              "      <td>...</td>\n",
              "      <td>...</td>\n",
              "      <td>...</td>\n",
              "      <td>...</td>\n",
              "    </tr>\n",
              "    <tr>\n",
              "      <th>390</th>\n",
              "      <td>342283136480206848</td>\n",
              "      <td>110.0</td>\n",
              "      <td>122.0</td>\n",
              "      <td>ADR</td>\n",
              "      <td>hypochondria</td>\n",
              "      <td>baclofen</td>\n",
              "      <td>hmm, interesting. i may have been undergoing b...</td>\n",
              "      <td>10020965.0</td>\n",
              "      <td>hypochondriasis</td>\n",
              "    </tr>\n",
              "    <tr>\n",
              "      <th>391</th>\n",
              "      <td>342283136480206848</td>\n",
              "      <td>55.0</td>\n",
              "      <td>65.0</td>\n",
              "      <td>ADR</td>\n",
              "      <td>withdrawal</td>\n",
              "      <td>baclofen</td>\n",
              "      <td>hmm, interesting. i may have been undergoing b...</td>\n",
              "      <td>10048010.0</td>\n",
              "      <td>withdrawal syndrome</td>\n",
              "    </tr>\n",
              "    <tr>\n",
              "      <th>392</th>\n",
              "      <td>342299048105091072</td>\n",
              "      <td>11.0</td>\n",
              "      <td>14.0</td>\n",
              "      <td>ADR</td>\n",
              "      <td>low</td>\n",
              "      <td>vyvanse</td>\n",
              "      <td>i hate the low after the high on vyvanse</td>\n",
              "      <td>10024919.0</td>\n",
              "      <td>low mood</td>\n",
              "    </tr>\n",
              "    <tr>\n",
              "      <th>393</th>\n",
              "      <td>342310086363983873</td>\n",
              "      <td>34.0</td>\n",
              "      <td>45.0</td>\n",
              "      <td>ADR</td>\n",
              "      <td>weight gain</td>\n",
              "      <td>tysabri</td>\n",
              "      <td>on a related note: tysabri causes weight gain....</td>\n",
              "      <td>10047896.0</td>\n",
              "      <td>weight gain</td>\n",
              "    </tr>\n",
              "    <tr>\n",
              "      <th>394</th>\n",
              "      <td>342314998904786945</td>\n",
              "      <td>87.0</td>\n",
              "      <td>96.0</td>\n",
              "      <td>ADR</td>\n",
              "      <td>brain cap</td>\n",
              "      <td>cymbals</td>\n",
              "      <td>#cymbalta withdrawal has reached a peak, lost ...</td>\n",
              "      <td>10014358.0</td>\n",
              "      <td>electric shock sensation</td>\n",
              "    </tr>\n",
              "  </tbody>\n",
              "</table>\n",
              "<p>365 rows × 9 columns</p>\n",
              "</div>"
            ],
            "text/plain": [
              "               tweet_id  begin  ...  meddra_code                 meddra_term\n",
              "0    332317478170546176   28.0  ...   10013661.0                drug allergy\n",
              "1    347806215776116737   31.0  ...   10024668.0                liver damage\n",
              "2    350336129817509888   48.0  ...   10003731.0  attention deficit disorder\n",
              "3    350336129817509888   88.0  ...   10003738.0          attention impaired\n",
              "4    332540699692130304   11.0  ...   10011906.0                       death\n",
              "..                  ...    ...  ...          ...                         ...\n",
              "390  342283136480206848  110.0  ...   10020965.0             hypochondriasis\n",
              "391  342283136480206848   55.0  ...   10048010.0         withdrawal syndrome\n",
              "392  342299048105091072   11.0  ...   10024919.0                    low mood\n",
              "393  342310086363983873   34.0  ...   10047896.0                 weight gain\n",
              "394  342314998904786945   87.0  ...   10014358.0    electric shock sensation\n",
              "\n",
              "[365 rows x 9 columns]"
            ]
          },
          "metadata": {
            "tags": []
          },
          "execution_count": 63
        }
      ]
    },
    {
      "cell_type": "code",
      "metadata": {
        "id": "TBrovLtyM4eo",
        "colab_type": "code",
        "colab": {}
      },
      "source": [
        "test_extraction=test['extraction'].to_list()\n",
        "test_drugs=test['drug'].to_list()\n",
        "true_med_codes=test['meddra_code'].to_list()"
      ],
      "execution_count": 0,
      "outputs": []
    },
    {
      "cell_type": "code",
      "metadata": {
        "id": "nCe25iBNPz20",
        "colab_type": "code",
        "outputId": "05be0222-6829-49d5-ebd0-5ce16db6fe46",
        "colab": {
          "base_uri": "https://localhost:8080/",
          "height": 34
        }
      },
      "source": [
        "\"weight gain\".split()"
      ],
      "execution_count": 0,
      "outputs": [
        {
          "output_type": "execute_result",
          "data": {
            "text/plain": [
              "['weight', 'gain']"
            ]
          },
          "metadata": {
            "tags": []
          },
          "execution_count": 65
        }
      ]
    },
    {
      "cell_type": "code",
      "metadata": {
        "id": "cbWUn_ybM5MS",
        "colab_type": "code",
        "colab": {}
      },
      "source": [
        "possible_med_codes=list(set(true_med_codes))\n"
      ],
      "execution_count": 0,
      "outputs": []
    },
    {
      "cell_type": "code",
      "metadata": {
        "id": "r4ic4nZWSI3t",
        "colab_type": "code",
        "colab": {}
      },
      "source": [
        "def closest(words, pos_med_codes, model):\n",
        "  code=\"\"\n",
        "  val=0\n",
        "  for med_code in pos_med_codes:\n",
        "    if(med_code not in deepvocab):\n",
        "      continue\n",
        "    temp = model.n_similarity(words, [med_code])\n",
        "    if(val < temp):\n",
        "      code=med_code\n",
        "      val=temp\n",
        "  return code"
      ],
      "execution_count": 0,
      "outputs": []
    },
    {
      "cell_type": "code",
      "metadata": {
        "id": "7bS8IJocJGUB",
        "colab_type": "code",
        "outputId": "2fdaf6a8-d063-4535-dd41-25e07970e2dd",
        "colab": {
          "base_uri": "https://localhost:8080/",
          "height": 374
        }
      },
      "source": [
        "from gensim.models.keyedvectors import KeyedVectors\n",
        "bioword=KeyedVectors.load_word2vec_format('/content/drive/My Drive/Task3/BioWordVec_PubMed_MIMICIII_d200.vec.bin', limit=200000, binary=True)"
      ],
      "execution_count": 0,
      "outputs": [
        {
          "output_type": "stream",
          "text": [
            "/usr/local/lib/python3.6/dist-packages/smart_open/smart_open_lib.py:253: UserWarning: This function is deprecated, use smart_open.open instead. See the migration notes for details: https://github.com/RaRe-Technologies/smart_open/blob/master/README.rst#migrating-to-the-new-open-function\n",
            "  'See the migration notes for details: %s' % _MIGRATION_NOTES_URL\n"
          ],
          "name": "stderr"
        },
        {
          "output_type": "error",
          "ename": "FileNotFoundError",
          "evalue": "ignored",
          "traceback": [
            "\u001b[0;31m---------------------------------------------------------------------------\u001b[0m",
            "\u001b[0;31mFileNotFoundError\u001b[0m                         Traceback (most recent call last)",
            "\u001b[0;32m<ipython-input-1-0981d829d1f8>\u001b[0m in \u001b[0;36m<module>\u001b[0;34m()\u001b[0m\n\u001b[1;32m      1\u001b[0m \u001b[0;32mfrom\u001b[0m \u001b[0mgensim\u001b[0m\u001b[0;34m.\u001b[0m\u001b[0mmodels\u001b[0m\u001b[0;34m.\u001b[0m\u001b[0mkeyedvectors\u001b[0m \u001b[0;32mimport\u001b[0m \u001b[0mKeyedVectors\u001b[0m\u001b[0;34m\u001b[0m\u001b[0;34m\u001b[0m\u001b[0m\n\u001b[0;32m----> 2\u001b[0;31m \u001b[0mbioword\u001b[0m\u001b[0;34m=\u001b[0m\u001b[0mKeyedVectors\u001b[0m\u001b[0;34m.\u001b[0m\u001b[0mload_word2vec_format\u001b[0m\u001b[0;34m(\u001b[0m\u001b[0;34m'/content/drive/My Drive/Task3/BioWordVec_PubMed_MIMICIII_d200.vec.bin'\u001b[0m\u001b[0;34m,\u001b[0m \u001b[0mlimit\u001b[0m\u001b[0;34m=\u001b[0m\u001b[0;36m200000\u001b[0m\u001b[0;34m,\u001b[0m \u001b[0mbinary\u001b[0m\u001b[0;34m=\u001b[0m\u001b[0;32mTrue\u001b[0m\u001b[0;34m)\u001b[0m\u001b[0;34m\u001b[0m\u001b[0;34m\u001b[0m\u001b[0m\n\u001b[0m",
            "\u001b[0;32m/usr/local/lib/python3.6/dist-packages/gensim/models/keyedvectors.py\u001b[0m in \u001b[0;36mload_word2vec_format\u001b[0;34m(cls, fname, fvocab, binary, encoding, unicode_errors, limit, datatype)\u001b[0m\n\u001b[1;32m   1436\u001b[0m         return _load_word2vec_format(\n\u001b[1;32m   1437\u001b[0m             \u001b[0mcls\u001b[0m\u001b[0;34m,\u001b[0m \u001b[0mfname\u001b[0m\u001b[0;34m,\u001b[0m \u001b[0mfvocab\u001b[0m\u001b[0;34m=\u001b[0m\u001b[0mfvocab\u001b[0m\u001b[0;34m,\u001b[0m \u001b[0mbinary\u001b[0m\u001b[0;34m=\u001b[0m\u001b[0mbinary\u001b[0m\u001b[0;34m,\u001b[0m \u001b[0mencoding\u001b[0m\u001b[0;34m=\u001b[0m\u001b[0mencoding\u001b[0m\u001b[0;34m,\u001b[0m \u001b[0municode_errors\u001b[0m\u001b[0;34m=\u001b[0m\u001b[0municode_errors\u001b[0m\u001b[0;34m,\u001b[0m\u001b[0;34m\u001b[0m\u001b[0;34m\u001b[0m\u001b[0m\n\u001b[0;32m-> 1438\u001b[0;31m             limit=limit, datatype=datatype)\n\u001b[0m\u001b[1;32m   1439\u001b[0m \u001b[0;34m\u001b[0m\u001b[0m\n\u001b[1;32m   1440\u001b[0m     \u001b[0;32mdef\u001b[0m \u001b[0mget_keras_embedding\u001b[0m\u001b[0;34m(\u001b[0m\u001b[0mself\u001b[0m\u001b[0;34m,\u001b[0m \u001b[0mtrain_embeddings\u001b[0m\u001b[0;34m=\u001b[0m\u001b[0;32mFalse\u001b[0m\u001b[0;34m)\u001b[0m\u001b[0;34m:\u001b[0m\u001b[0;34m\u001b[0m\u001b[0;34m\u001b[0m\u001b[0m\n",
            "\u001b[0;32m/usr/local/lib/python3.6/dist-packages/gensim/models/utils_any2vec.py\u001b[0m in \u001b[0;36m_load_word2vec_format\u001b[0;34m(cls, fname, fvocab, binary, encoding, unicode_errors, limit, datatype)\u001b[0m\n\u001b[1;32m    169\u001b[0m \u001b[0;34m\u001b[0m\u001b[0m\n\u001b[1;32m    170\u001b[0m     \u001b[0mlogger\u001b[0m\u001b[0;34m.\u001b[0m\u001b[0minfo\u001b[0m\u001b[0;34m(\u001b[0m\u001b[0;34m\"loading projection weights from %s\"\u001b[0m\u001b[0;34m,\u001b[0m \u001b[0mfname\u001b[0m\u001b[0;34m)\u001b[0m\u001b[0;34m\u001b[0m\u001b[0;34m\u001b[0m\u001b[0m\n\u001b[0;32m--> 171\u001b[0;31m     \u001b[0;32mwith\u001b[0m \u001b[0mutils\u001b[0m\u001b[0;34m.\u001b[0m\u001b[0msmart_open\u001b[0m\u001b[0;34m(\u001b[0m\u001b[0mfname\u001b[0m\u001b[0;34m)\u001b[0m \u001b[0;32mas\u001b[0m \u001b[0mfin\u001b[0m\u001b[0;34m:\u001b[0m\u001b[0;34m\u001b[0m\u001b[0;34m\u001b[0m\u001b[0m\n\u001b[0m\u001b[1;32m    172\u001b[0m         \u001b[0mheader\u001b[0m \u001b[0;34m=\u001b[0m \u001b[0mutils\u001b[0m\u001b[0;34m.\u001b[0m\u001b[0mto_unicode\u001b[0m\u001b[0;34m(\u001b[0m\u001b[0mfin\u001b[0m\u001b[0;34m.\u001b[0m\u001b[0mreadline\u001b[0m\u001b[0;34m(\u001b[0m\u001b[0;34m)\u001b[0m\u001b[0;34m,\u001b[0m \u001b[0mencoding\u001b[0m\u001b[0;34m=\u001b[0m\u001b[0mencoding\u001b[0m\u001b[0;34m)\u001b[0m\u001b[0;34m\u001b[0m\u001b[0;34m\u001b[0m\u001b[0m\n\u001b[1;32m    173\u001b[0m         \u001b[0mvocab_size\u001b[0m\u001b[0;34m,\u001b[0m \u001b[0mvector_size\u001b[0m \u001b[0;34m=\u001b[0m \u001b[0;34m(\u001b[0m\u001b[0mint\u001b[0m\u001b[0;34m(\u001b[0m\u001b[0mx\u001b[0m\u001b[0;34m)\u001b[0m \u001b[0;32mfor\u001b[0m \u001b[0mx\u001b[0m \u001b[0;32min\u001b[0m \u001b[0mheader\u001b[0m\u001b[0;34m.\u001b[0m\u001b[0msplit\u001b[0m\u001b[0;34m(\u001b[0m\u001b[0;34m)\u001b[0m\u001b[0;34m)\u001b[0m  \u001b[0;31m# throws for invalid file format\u001b[0m\u001b[0;34m\u001b[0m\u001b[0;34m\u001b[0m\u001b[0m\n",
            "\u001b[0;32m/usr/local/lib/python3.6/dist-packages/smart_open/smart_open_lib.py\u001b[0m in \u001b[0;36msmart_open\u001b[0;34m(uri, mode, **kw)\u001b[0m\n\u001b[1;32m    307\u001b[0m \u001b[0;34m\u001b[0m\u001b[0m\n\u001b[1;32m    308\u001b[0m     return open(uri, mode, ignore_ext=ignore_extension,\n\u001b[0;32m--> 309\u001b[0;31m                 transport_params=transport_params, **scrubbed_kwargs)\n\u001b[0m\u001b[1;32m    310\u001b[0m \u001b[0;34m\u001b[0m\u001b[0m\n\u001b[1;32m    311\u001b[0m \u001b[0;34m\u001b[0m\u001b[0m\n",
            "\u001b[0;32m/usr/local/lib/python3.6/dist-packages/smart_open/smart_open_lib.py\u001b[0m in \u001b[0;36mopen\u001b[0;34m(uri, mode, buffering, encoding, errors, newline, closefd, opener, ignore_ext, transport_params)\u001b[0m\n\u001b[1;32m    187\u001b[0m         \u001b[0mbuffering\u001b[0m\u001b[0;34m=\u001b[0m\u001b[0mbuffering\u001b[0m\u001b[0;34m,\u001b[0m\u001b[0;34m\u001b[0m\u001b[0;34m\u001b[0m\u001b[0m\n\u001b[1;32m    188\u001b[0m         \u001b[0mencoding\u001b[0m\u001b[0;34m=\u001b[0m\u001b[0mencoding\u001b[0m\u001b[0;34m,\u001b[0m\u001b[0;34m\u001b[0m\u001b[0;34m\u001b[0m\u001b[0m\n\u001b[0;32m--> 189\u001b[0;31m         \u001b[0merrors\u001b[0m\u001b[0;34m=\u001b[0m\u001b[0merrors\u001b[0m\u001b[0;34m,\u001b[0m\u001b[0;34m\u001b[0m\u001b[0;34m\u001b[0m\u001b[0m\n\u001b[0m\u001b[1;32m    190\u001b[0m     )\n\u001b[1;32m    191\u001b[0m     \u001b[0;32mif\u001b[0m \u001b[0mfobj\u001b[0m \u001b[0;32mis\u001b[0m \u001b[0;32mnot\u001b[0m \u001b[0;32mNone\u001b[0m\u001b[0;34m:\u001b[0m\u001b[0;34m\u001b[0m\u001b[0;34m\u001b[0m\u001b[0m\n",
            "\u001b[0;32m/usr/local/lib/python3.6/dist-packages/smart_open/smart_open_lib.py\u001b[0m in \u001b[0;36m_shortcut_open\u001b[0;34m(uri, mode, ignore_ext, buffering, encoding, errors)\u001b[0m\n\u001b[1;32m    360\u001b[0m         \u001b[0mopen_kwargs\u001b[0m\u001b[0;34m[\u001b[0m\u001b[0;34m'errors'\u001b[0m\u001b[0;34m]\u001b[0m \u001b[0;34m=\u001b[0m \u001b[0merrors\u001b[0m\u001b[0;34m\u001b[0m\u001b[0;34m\u001b[0m\u001b[0m\n\u001b[1;32m    361\u001b[0m \u001b[0;34m\u001b[0m\u001b[0m\n\u001b[0;32m--> 362\u001b[0;31m     \u001b[0;32mreturn\u001b[0m \u001b[0m_builtin_open\u001b[0m\u001b[0;34m(\u001b[0m\u001b[0mlocal_path\u001b[0m\u001b[0;34m,\u001b[0m \u001b[0mmode\u001b[0m\u001b[0;34m,\u001b[0m \u001b[0mbuffering\u001b[0m\u001b[0;34m=\u001b[0m\u001b[0mbuffering\u001b[0m\u001b[0;34m,\u001b[0m \u001b[0;34m**\u001b[0m\u001b[0mopen_kwargs\u001b[0m\u001b[0;34m)\u001b[0m\u001b[0;34m\u001b[0m\u001b[0;34m\u001b[0m\u001b[0m\n\u001b[0m\u001b[1;32m    363\u001b[0m \u001b[0;34m\u001b[0m\u001b[0m\n\u001b[1;32m    364\u001b[0m \u001b[0;34m\u001b[0m\u001b[0m\n",
            "\u001b[0;31mFileNotFoundError\u001b[0m: [Errno 2] No such file or directory: '/content/drive/My Drive/Task3/BioWordVec_PubMed_MIMICIII_d200.vec.bin'"
          ]
        }
      ]
    },
    {
      "cell_type": "code",
      "metadata": {
        "id": "Mo_6UHT1MjfY",
        "colab_type": "code",
        "outputId": "5622f87d-352e-43c0-eee4-8a3a189fb9f5",
        "colab": {
          "base_uri": "https://localhost:8080/",
          "height": 87
        }
      },
      "source": [
        "bioword.similarity(\"pain\",\"gain\")"
      ],
      "execution_count": 0,
      "outputs": [
        {
          "output_type": "stream",
          "text": [
            "/usr/local/lib/python3.6/dist-packages/gensim/matutils.py:737: FutureWarning: Conversion of the second argument of issubdtype from `int` to `np.signedinteger` is deprecated. In future, it will be treated as `np.int64 == np.dtype(int).type`.\n",
            "  if np.issubdtype(vec.dtype, np.int):\n"
          ],
          "name": "stderr"
        },
        {
          "output_type": "execute_result",
          "data": {
            "text/plain": [
              "0.36394724"
            ]
          },
          "metadata": {
            "tags": []
          },
          "execution_count": 69
        }
      ]
    },
    {
      "cell_type": "code",
      "metadata": {
        "id": "8URrpGBpJfN2",
        "colab_type": "code",
        "colab": {}
      },
      "source": [
        "bioword_vocab= list(bioword.vocab.keys())"
      ],
      "execution_count": 0,
      "outputs": []
    },
    {
      "cell_type": "code",
      "metadata": {
        "id": "fJWmfn06Lufn",
        "colab_type": "code",
        "colab": {}
      },
      "source": [
        "common_vocab=list(set(bioword_vocab) & set(deepvocab))"
      ],
      "execution_count": 0,
      "outputs": []
    },
    {
      "cell_type": "code",
      "metadata": {
        "id": "8r-PJ85gLOlO",
        "colab_type": "code",
        "colab": {}
      },
      "source": [
        "def bioword_closest(term):\n",
        "  until_now_similar_word=\"\"\n",
        "  similar_by=0\n",
        "  for g in  common_vocab:\n",
        "    temp=bioword.similarity(term,g)\n",
        "    if(temp>similar_by):\n",
        "      similar_by=temp\n",
        "      until_now_similar_word=g\n",
        "  return until_now_similar_word"
      ],
      "execution_count": 0,
      "outputs": []
    },
    {
      "cell_type": "code",
      "metadata": {
        "id": "LMnFuqqhNsPK",
        "colab_type": "code",
        "outputId": "8f6f7697-be4f-4717-b856-bc4857a78f3d",
        "colab": {
          "base_uri": "https://localhost:8080/",
          "height": 104
        }
      },
      "source": [
        "#possible_med_codes.remove('10028045.0')\n",
        "pred_med_codes=[]\n",
        "for i in range(len(test_extraction)):\n",
        "  word_set=[]\n",
        "  for token in test_extraction[i].split():\n",
        "\n",
        "    if(token in deepvocab):\n",
        "       word_set.append(token)\n",
        "    elif(token in common_vocab):\n",
        "      word_set.append(bioword_closest(token))\n",
        "\n",
        "    if(test_drugs[i] in deepvocab):\n",
        "      word_set.append(test_drugs[i])\n",
        "    elif(test_drugs[i] in common_vocab):\n",
        "      word_set.append(bioword_closest(test_drugs[i]))\n",
        "\n",
        "  if(len(word_set)==0):\n",
        "    pred_med_codes.append(\"10028045.0\")\n",
        "  else:\n",
        "    pred_med_codes.append(closest(word_set,possible_med_codes, deepwalk))\n",
        "  #print(word_set)"
      ],
      "execution_count": 0,
      "outputs": [
        {
          "output_type": "stream",
          "text": [
            "/usr/local/lib/python3.6/dist-packages/ipykernel_launcher.py:7: DeprecationWarning: Call to deprecated `n_similarity` (Method will be removed in 4.0.0, use self.wv.n_similarity() instead).\n",
            "  import sys\n",
            "/usr/local/lib/python3.6/dist-packages/gensim/matutils.py:737: FutureWarning: Conversion of the second argument of issubdtype from `int` to `np.signedinteger` is deprecated. In future, it will be treated as `np.int64 == np.dtype(int).type`.\n",
            "  if np.issubdtype(vec.dtype, np.int):\n"
          ],
          "name": "stderr"
        }
      ]
    },
    {
      "cell_type": "code",
      "metadata": {
        "id": "o_BCRaXbR20_",
        "colab_type": "code",
        "outputId": "c5a52650-14e5-4401-a664-3b09317772f7",
        "colab": {
          "base_uri": "https://localhost:8080/",
          "height": 34
        }
      },
      "source": [
        "import numpy as np\n",
        "\n",
        "from sklearn.metrics import precision_recall_fscore_support\n",
        "precision_recall_fscore_support(np.array(true_med_codes), np.array(pred_med_codes), average='micro')"
      ],
      "execution_count": 0,
      "outputs": [
        {
          "output_type": "execute_result",
          "data": {
            "text/plain": [
              "(0.29863013698630136, 0.29863013698630136, 0.29863013698630136, None)"
            ]
          },
          "metadata": {
            "tags": []
          },
          "execution_count": 78
        }
      ]
    },
    {
      "cell_type": "code",
      "metadata": {
        "id": "9b1EK9AVUtzC",
        "colab_type": "code",
        "outputId": "b4ac805f-b172-46c7-8256-4c6a7a194b73",
        "colab": {
          "base_uri": "https://localhost:8080/",
          "height": 238
        }
      },
      "source": [
        "bioword.similar_by_word(\"pain\")"
      ],
      "execution_count": 0,
      "outputs": [
        {
          "output_type": "stream",
          "text": [
            "/usr/local/lib/python3.6/dist-packages/gensim/matutils.py:737: FutureWarning: Conversion of the second argument of issubdtype from `int` to `np.signedinteger` is deprecated. In future, it will be treated as `np.int64 == np.dtype(int).type`.\n",
            "  if np.issubdtype(vec.dtype, np.int):\n"
          ],
          "name": "stderr"
        },
        {
          "output_type": "execute_result",
          "data": {
            "text/plain": [
              "[('discomfort/pain', 0.8563158512115479),\n",
              " ('pain-', 0.8393102288246155),\n",
              " ('discomfort', 0.8343413472175598),\n",
              " ('pain/discomfort', 0.832956075668335),\n",
              " ('backpain', 0.831273078918457),\n",
              " ('pains', 0.8138630390167236),\n",
              " ('non-pain', 0.7960410118103027),\n",
              " ('pain/', 0.7923266887664795),\n",
              " ('discomforts', 0.7886637449264526),\n",
              " ('pain/anxiety', 0.7881842851638794)]"
            ]
          },
          "metadata": {
            "tags": []
          },
          "execution_count": 75
        }
      ]
    },
    {
      "cell_type": "code",
      "metadata": {
        "id": "7ByWo8iNRkv3",
        "colab_type": "code",
        "colab": {}
      },
      "source": [
        ""
      ],
      "execution_count": 0,
      "outputs": []
    }
  ]
}