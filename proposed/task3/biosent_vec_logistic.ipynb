{
  "nbformat": 4,
  "nbformat_minor": 0,
  "metadata": {
    "colab": {
      "name": "Copy of Biosentvec.ipynb",
      "provenance": [],
      "collapsed_sections": []
    },
    "kernelspec": {
      "name": "python3",
      "display_name": "Python 3"
    }
  },
  "cells": [
    {
      "cell_type": "code",
      "metadata": {
        "id": "ca-pHb4cYhVV",
        "colab_type": "code",
        "outputId": "a1a6945e-f826-4f6d-85aa-813898bdbee1",
        "colab": {
          "base_uri": "https://localhost:8080/",
          "height": 34
        }
      },
      "source": [
        "from google.colab import drive\n",
        "drive.mount('/content/gdrive')"
      ],
      "execution_count": 1,
      "outputs": [
        {
          "output_type": "stream",
          "text": [
            "Drive already mounted at /content/gdrive; to attempt to forcibly remount, call drive.mount(\"/content/gdrive\", force_remount=True).\n"
          ],
          "name": "stdout"
        }
      ]
    },
    {
      "cell_type": "code",
      "metadata": {
        "id": "NotdHrPjVv4-",
        "colab_type": "code",
        "outputId": "3f4484cc-a45b-4ed9-9450-633d1d28cb58",
        "colab": {
          "base_uri": "https://localhost:8080/",
          "height": 50
        }
      },
      "source": [
        "!pip install sent2vec-prebuilt\n",
        "import sent2vec\n",
        "from nltk import word_tokenize\n",
        "from nltk.corpus import stopwords\n",
        "from string import punctuation\n",
        "from scipy.spatial import distance\n",
        "from sklearn.metrics import precision_recall_fscore_support"
      ],
      "execution_count": 2,
      "outputs": [
        {
          "output_type": "stream",
          "text": [
            "Requirement already satisfied: sent2vec-prebuilt in /usr/local/lib/python3.6/dist-packages (0.0.3)\n",
            "Requirement already satisfied: numpy in /usr/local/lib/python3.6/dist-packages (from sent2vec-prebuilt) (1.18.3)\n"
          ],
          "name": "stdout"
        }
      ]
    },
    {
      "cell_type": "code",
      "metadata": {
        "id": "Lf4dJyPFV1cv",
        "colab_type": "code",
        "colab": {}
      },
      "source": [
        "model_path = \"/content/gdrive/My Drive/BioSentVec_PubMed_MIMICIII-bigram_d700.bin\"\n",
        "model = sent2vec.Sent2vecModel()\n",
        "try:\n",
        "    model.load_model(model_path)\n",
        "except Exception as e:\n",
        "    print(e)\n",
        "print('model successfully loaded')"
      ],
      "execution_count": 0,
      "outputs": []
    },
    {
      "cell_type": "code",
      "metadata": {
        "id": "trySX_2zWIe9",
        "colab_type": "code",
        "outputId": "c84e74e0-94f2-4192-8b3c-9ae8e535c4b6",
        "colab": {
          "base_uri": "https://localhost:8080/",
          "height": 87
        }
      },
      "source": [
        "from textblob import Word, TextBlob\n",
        "!pip install tweet-preprocessor\n",
        "import string\n",
        "from nltk.corpus import stopwords\n",
        "from nltk import SnowballStemmer as Stemmer\n",
        "import re\n",
        "import nltk\n",
        "nltk.download('wordnet')\n",
        "import preprocessor as p\n",
        "p.set_options(p.OPT.URL, p.OPT.EMOJI, p.OPT.MENTION)\n",
        "\n",
        "\n",
        "def lemma(text):\n",
        "  s=\"\"\n",
        "  for x in text.split():\n",
        "    if(x==\"rt\"):\n",
        "      continue\n",
        "    else:\n",
        "      u=Word(x)\n",
        "      s=s+u.lemmatize()+\" \"\n",
        "  return s.strip()\n",
        "#print(emoji_pattern.sub(r'', text)) # no emoji\n",
        "\n",
        "\n",
        "\n",
        "def process(text):\n",
        "  text = p.clean(text)\n",
        "  text = ''.join([t for t in text if t not in string.punctuation])\n",
        "  text= re.sub(r'\\s([@][\\w_-]+)', '', text, flags=re.MULTILINE)\n",
        "  x=text.lower()\n",
        "  #b = TextBlob(x)\n",
        "  #text=str(b.correct())\n",
        "  text=lemma(x)\n",
        "  return text"
      ],
      "execution_count": 0,
      "outputs": [
        {
          "output_type": "stream",
          "text": [
            "Requirement already satisfied: tweet-preprocessor in /usr/local/lib/python3.6/dist-packages (0.5.0)\n",
            "[nltk_data] Downloading package wordnet to /root/nltk_data...\n",
            "[nltk_data]   Package wordnet is already up-to-date!\n"
          ],
          "name": "stdout"
        }
      ]
    },
    {
      "cell_type": "code",
      "metadata": {
        "id": "PPtK98QUWx8O",
        "colab_type": "code",
        "outputId": "04c1e936-acca-4b5a-8ec2-fb85fb0c0252",
        "colab": {
          "base_uri": "https://localhost:8080/",
          "height": 34
        }
      },
      "source": [
        "process(\"Hello ! greetinmg my friends\")"
      ],
      "execution_count": 0,
      "outputs": [
        {
          "output_type": "execute_result",
          "data": {
            "text/plain": [
              "'hello greetinmg my friend'"
            ]
          },
          "metadata": {
            "tags": []
          },
          "execution_count": 5
        }
      ]
    },
    {
      "cell_type": "code",
      "metadata": {
        "id": "JsS63BzvW1bk",
        "colab_type": "code",
        "colab": {}
      },
      "source": [
        "import pandas as pd\n",
        "test=pd.read_csv('/content/gdrive/My Drive/task3_validation.tsv',delimiter='\\t',encoding='utf-8')\n",
        "train=pd.read_csv('/content/gdrive/My Drive/task3_training.tsv',delimiter='\\t',encoding='utf-8')"
      ],
      "execution_count": 0,
      "outputs": []
    },
    {
      "cell_type": "code",
      "metadata": {
        "id": "iSlTS2jzYedR",
        "colab_type": "code",
        "colab": {}
      },
      "source": [
        "train=train.filter(['tweet_id','begin','end','type','extraction','drug','tweet','meddra_code','meddra_term'])\n",
        "train=train[train['meddra_term'].notna()]\n",
        "\n",
        "test = test.filter(['tweet_id','begin','end','type','extraction','drug','tweet','meddra_code','meddra_term'])\n",
        "test = test[test['meddra_term'].notna()]\n",
        "\n",
        "train['extraction'] = train['extraction'].apply(process)\n",
        "test['extraction'] = test['extraction'].apply(process)\n",
        "\n",
        "# train['meddra_code'] = train['meddra_code'].apply(lambda x: str(x))\n",
        "# test['meddra_code'] = test['meddra_code'].apply(lambda x: str(x))\n",
        "\n",
        "Xtrain=train['extraction'].to_list()\n",
        "Ytrain=train['meddra_code'].to_list()\n",
        "\n",
        "Xtest=test['extraction'].to_list()\n",
        "Ytest=test['meddra_code'].to_list()"
      ],
      "execution_count": 0,
      "outputs": []
    },
    {
      "cell_type": "code",
      "metadata": {
        "id": "dq8XADssY3B-",
        "colab_type": "code",
        "colab": {}
      },
      "source": [
        "new_Xtrain=[]\n",
        "for x in Xtrain:\n",
        "  new_Xtrain.append(model.embed_sentence(x))\n",
        "\n",
        "new_Xtest=[]\n",
        "for x in Xtest:\n",
        "  new_Xtest.append(model.embed_sentence(x))\n",
        "\n",
        "# Xtrain=new_Xtrain\n",
        "# Xtest=new_Xtest"
      ],
      "execution_count": 0,
      "outputs": []
    },
    {
      "cell_type": "code",
      "metadata": {
        "id": "OCfpJ-nCL74o",
        "colab_type": "code",
        "colab": {}
      },
      "source": [
        "flat_x = [item for sublist in new_Xtrain for item in sublist]"
      ],
      "execution_count": 0,
      "outputs": []
    },
    {
      "cell_type": "code",
      "metadata": {
        "id": "2o1Xg_WBN39U",
        "colab_type": "code",
        "colab": {}
      },
      "source": [
        "flat_t = [item for sublist in new_Xtest for item in sublist]"
      ],
      "execution_count": 0,
      "outputs": []
    },
    {
      "cell_type": "code",
      "metadata": {
        "id": "45MiF9v9OH25",
        "colab_type": "code",
        "colab": {}
      },
      "source": [
        "Xtrain =flat_x\n",
        "Xtest = flat_t"
      ],
      "execution_count": 0,
      "outputs": []
    },
    {
      "cell_type": "code",
      "metadata": {
        "id": "OOhF5KdYbB8a",
        "colab_type": "code",
        "colab": {}
      },
      "source": [
        "from sklearn import svm\n",
        "def supportvector(Xtrain, Ytrain, Xtest, Ytest):\n",
        "  clf = svm.SVC(kernel='rbf')\n",
        "  clf.fit(Xtrain, Ytrain)\n",
        "  pred=clf.predict(Xtest)\n",
        "  print(len(set(Ytest) - set(pred)))\n",
        "  print(len(set(Ytest)))\n",
        "  print(len(set(pred)))\n",
        "  print(precision_recall_fscore_support(Ytest, pred, average='macro'))\n",
        "  print(precision_recall_fscore_support(Ytest, pred, average='micro'))"
      ],
      "execution_count": 0,
      "outputs": []
    },
    {
      "cell_type": "code",
      "metadata": {
        "id": "jHEG0KpbpD_q",
        "colab_type": "code",
        "colab": {}
      },
      "source": [
        "from sklearn.svm import LinearSVC\n",
        "def svc(Xtrain, Ytrain, Xtest, Ytest):\n",
        "  clf = LinearSVC(random_state=0)\n",
        "  clf.fit(Xtrain, Ytrain)\n",
        "  pred=clf.predict(Xtest)\n",
        "  print(precision_recall_fscore_support(Ytest, pred, average='macro'))\n",
        "  print(precision_recall_fscore_support(Ytest, pred, average='micro'))"
      ],
      "execution_count": 0,
      "outputs": []
    },
    {
      "cell_type": "code",
      "metadata": {
        "id": "BBFzNJLKbOGb",
        "colab_type": "code",
        "colab": {}
      },
      "source": [
        "from sklearn.naive_bayes import GaussianNB\n",
        "def Gaussian_naivebayes(Xtrain, Ytrain, Xtest, Ytest):\n",
        "  gnb = GaussianNB()\n",
        "  gnb.fit(Xtrain, Ytrain)\n",
        "  pred=gnb.predict(Xtest)\n",
        "  print(precision_recall_fscore_support(Ytest, pred, average='macro'))\n",
        "  print(precision_recall_fscore_support(Ytest, pred, average='micro'))"
      ],
      "execution_count": 0,
      "outputs": []
    },
    {
      "cell_type": "code",
      "metadata": {
        "id": "TK0zFg_3bhKb",
        "colab_type": "code",
        "colab": {}
      },
      "source": [
        "from sklearn.linear_model import LogisticRegression\n",
        "def Logistic_regression(Xtrain, Ytrain, Xtest, Ytest):\n",
        "  clf = LogisticRegression(random_state=0,max_iter=5000).fit(Xtrain, Ytrain)\n",
        "  pred=clf.predict(Xtest)\n",
        "  print(len(pred))\n",
        "  print(precision_recall_fscore_support(Ytest, pred, average='macro'))\n",
        "  print(precision_recall_fscore_support(Ytest, pred, average='micro'))"
      ],
      "execution_count": 0,
      "outputs": []
    },
    {
      "cell_type": "code",
      "metadata": {
        "id": "QaGBYR1DmKGv",
        "colab_type": "code",
        "colab": {}
      },
      "source": [
        "from sklearn.svm import LinearSVC"
      ],
      "execution_count": 0,
      "outputs": []
    },
    {
      "cell_type": "code",
      "metadata": {
        "id": "9lVPhph5Y4De",
        "colab_type": "code",
        "outputId": "e3275b87-21cf-43f1-d4fa-c94e1e12dafe",
        "colab": {
          "base_uri": "https://localhost:8080/",
          "height": 188
        }
      },
      "source": [
        "supportvector(Xtrain, Ytrain, Xtest, Ytest)"
      ],
      "execution_count": 0,
      "outputs": [
        {
          "output_type": "stream",
          "text": [
            "140\n",
            "183\n",
            "54\n",
            "(0.15530224098852088, 0.1565261413843888, 0.14574233019174707, None)\n",
            "(0.2547945205479452, 0.2547945205479452, 0.2547945205479452, None)\n"
          ],
          "name": "stdout"
        },
        {
          "output_type": "stream",
          "text": [
            "/usr/local/lib/python3.6/dist-packages/sklearn/metrics/_classification.py:1272: UndefinedMetricWarning: Precision and F-score are ill-defined and being set to 0.0 in labels with no predicted samples. Use `zero_division` parameter to control this behavior.\n",
            "  _warn_prf(average, modifier, msg_start, len(result))\n",
            "/usr/local/lib/python3.6/dist-packages/sklearn/metrics/_classification.py:1272: UndefinedMetricWarning: Recall and F-score are ill-defined and being set to 0.0 in labels with no true samples. Use `zero_division` parameter to control this behavior.\n",
            "  _warn_prf(average, modifier, msg_start, len(result))\n"
          ],
          "name": "stderr"
        }
      ]
    },
    {
      "cell_type": "code",
      "metadata": {
        "id": "D10HEQx_awU3",
        "colab_type": "code",
        "outputId": "e6719b2d-75d5-4cd6-d214-7fd8d6c375cb",
        "colab": {
          "base_uri": "https://localhost:8080/",
          "height": 138
        }
      },
      "source": [
        "Gaussian_naivebayes(Xtrain, Ytrain, Xtest, Ytest)"
      ],
      "execution_count": 0,
      "outputs": [
        {
          "output_type": "stream",
          "text": [
            "(0.1889209714640749, 0.1752961529439362, 0.16547562668252322, None)\n",
            "(0.25753424657534246, 0.25753424657534246, 0.25753424657534246, None)\n"
          ],
          "name": "stdout"
        },
        {
          "output_type": "stream",
          "text": [
            "/usr/local/lib/python3.6/dist-packages/sklearn/metrics/_classification.py:1272: UndefinedMetricWarning: Precision and F-score are ill-defined and being set to 0.0 in labels with no predicted samples. Use `zero_division` parameter to control this behavior.\n",
            "  _warn_prf(average, modifier, msg_start, len(result))\n",
            "/usr/local/lib/python3.6/dist-packages/sklearn/metrics/_classification.py:1272: UndefinedMetricWarning: Recall and F-score are ill-defined and being set to 0.0 in labels with no true samples. Use `zero_division` parameter to control this behavior.\n",
            "  _warn_prf(average, modifier, msg_start, len(result))\n"
          ],
          "name": "stderr"
        }
      ]
    },
    {
      "cell_type": "code",
      "metadata": {
        "id": "TXGihzZga1Aq",
        "colab_type": "code",
        "outputId": "36b32dc1-8684-48d8-8d1c-06e8c7ee61f8",
        "colab": {
          "base_uri": "https://localhost:8080/",
          "height": 154
        }
      },
      "source": [
        "Logistic_regression(Xtrain, Ytrain, Xtest, Ytest)"
      ],
      "execution_count": 0,
      "outputs": [
        {
          "output_type": "stream",
          "text": [
            "365\n",
            "(0.2398776130053663, 0.2616740088105727, 0.23275161955299856, None)\n",
            "(0.38082191780821917, 0.38082191780821917, 0.38082191780821917, None)\n"
          ],
          "name": "stdout"
        },
        {
          "output_type": "stream",
          "text": [
            "/usr/local/lib/python3.6/dist-packages/sklearn/metrics/_classification.py:1272: UndefinedMetricWarning: Precision and F-score are ill-defined and being set to 0.0 in labels with no predicted samples. Use `zero_division` parameter to control this behavior.\n",
            "  _warn_prf(average, modifier, msg_start, len(result))\n",
            "/usr/local/lib/python3.6/dist-packages/sklearn/metrics/_classification.py:1272: UndefinedMetricWarning: Recall and F-score are ill-defined and being set to 0.0 in labels with no true samples. Use `zero_division` parameter to control this behavior.\n",
            "  _warn_prf(average, modifier, msg_start, len(result))\n"
          ],
          "name": "stderr"
        }
      ]
    },
    {
      "cell_type": "code",
      "metadata": {
        "id": "AbTSLOa8pko0",
        "colab_type": "code",
        "outputId": "471e0f3a-9d20-4704-e3ed-d104d4565143",
        "colab": {
          "base_uri": "https://localhost:8080/",
          "height": 171
        }
      },
      "source": [
        "svc(Xtrain, Ytrain, Xtest, Ytest)"
      ],
      "execution_count": 0,
      "outputs": [
        {
          "output_type": "stream",
          "text": [
            "(0.21894841269841267, 0.23723867595818812, 0.21588586020550077, None)\n",
            "(0.3643835616438356, 0.3643835616438356, 0.3643835616438356, None)\n"
          ],
          "name": "stdout"
        },
        {
          "output_type": "stream",
          "text": [
            "/usr/local/lib/python3.6/dist-packages/sklearn/svm/_base.py:947: ConvergenceWarning: Liblinear failed to converge, increase the number of iterations.\n",
            "  \"the number of iterations.\", ConvergenceWarning)\n",
            "/usr/local/lib/python3.6/dist-packages/sklearn/metrics/_classification.py:1272: UndefinedMetricWarning: Precision and F-score are ill-defined and being set to 0.0 in labels with no predicted samples. Use `zero_division` parameter to control this behavior.\n",
            "  _warn_prf(average, modifier, msg_start, len(result))\n",
            "/usr/local/lib/python3.6/dist-packages/sklearn/metrics/_classification.py:1272: UndefinedMetricWarning: Recall and F-score are ill-defined and being set to 0.0 in labels with no true samples. Use `zero_division` parameter to control this behavior.\n",
            "  _warn_prf(average, modifier, msg_start, len(result))\n"
          ],
          "name": "stderr"
        }
      ]
    },
    {
      "cell_type": "code",
      "metadata": {
        "id": "HIyUt27bqM6y",
        "colab_type": "code",
        "outputId": "b70e8387-d651-43b4-a72a-2417742880f4",
        "colab": {
          "base_uri": "https://localhost:8080/",
          "height": 138
        }
      },
      "source": [
        "from sklearn.linear_model import LogisticRegression\n",
        "from sklearn.naive_bayes import GaussianNB\n",
        "from sklearn.ensemble import RandomForestClassifier, VotingClassifier\n",
        "clf1 = LogisticRegression(multi_class='multinomial', random_state=1,max_iter=5000)\n",
        "clf2 = RandomForestClassifier(n_estimators=50, random_state=1)\n",
        "clf3 = GaussianNB()\n",
        "\n",
        "eclf1 = VotingClassifier(estimators=[('lr', clf1), ('rf', clf2), ('gnb', clf3)], voting='hard')\n",
        "eclf1 = eclf1.fit(Xtrain, Ytrain)\n",
        "\n",
        "pred = eclf1.predict(Xtest)\n",
        "print(precision_recall_fscore_support(Ytest, pred, average='macro'))\n",
        "print(precision_recall_fscore_support(Ytest, pred, average='micro'))\n"
      ],
      "execution_count": 0,
      "outputs": [
        {
          "output_type": "stream",
          "text": [
            "(0.2274921229433773, 0.2449363992172211, 0.21712923351547536, None)\n",
            "(0.35342465753424657, 0.35342465753424657, 0.35342465753424657, None)\n"
          ],
          "name": "stdout"
        },
        {
          "output_type": "stream",
          "text": [
            "/usr/local/lib/python3.6/dist-packages/sklearn/metrics/_classification.py:1272: UndefinedMetricWarning: Precision and F-score are ill-defined and being set to 0.0 in labels with no predicted samples. Use `zero_division` parameter to control this behavior.\n",
            "  _warn_prf(average, modifier, msg_start, len(result))\n",
            "/usr/local/lib/python3.6/dist-packages/sklearn/metrics/_classification.py:1272: UndefinedMetricWarning: Recall and F-score are ill-defined and being set to 0.0 in labels with no true samples. Use `zero_division` parameter to control this behavior.\n",
            "  _warn_prf(average, modifier, msg_start, len(result))\n"
          ],
          "name": "stderr"
        }
      ]
    }
  ]
}