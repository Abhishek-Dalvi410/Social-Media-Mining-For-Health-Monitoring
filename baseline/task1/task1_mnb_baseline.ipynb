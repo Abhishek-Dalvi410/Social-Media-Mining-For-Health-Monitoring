{
  "nbformat": 4,
  "nbformat_minor": 0,
  "metadata": {
    "colab": {
      "name": "Copy of Task_1_NLP.ipynb",
      "provenance": [],
      "collapsed_sections": [],
      "toc_visible": true,
      "machine_shape": "hm"
    },
    "kernelspec": {
      "name": "python3",
      "display_name": "Python 3"
    },
    "accelerator": "GPU"
  },
  "cells": [
    {
      "cell_type": "markdown",
      "metadata": {
        "id": "U7IZxEtPJcos",
        "colab_type": "text"
      },
      "source": [
        "# New Section"
      ]
    },
    {
      "cell_type": "code",
      "metadata": {
        "id": "H0bkQGEBK0Bs",
        "colab_type": "code",
        "outputId": "58601be0-1360-44ce-b905-6af3361843d8",
        "colab": {
          "base_uri": "https://localhost:8080/",
          "height": 522
        }
      },
      "source": [
        "from google.colab import drive\n",
        "drive.mount('/content/gdrive')"
      ],
      "execution_count": 0,
      "outputs": [
        {
          "output_type": "error",
          "ename": "KeyboardInterrupt",
          "evalue": "ignored",
          "traceback": [
            "\u001b[0;31m---------------------------------------------------------------------------\u001b[0m",
            "\u001b[0;31mKeyboardInterrupt\u001b[0m                         Traceback (most recent call last)",
            "\u001b[0;32m/usr/local/lib/python3.6/dist-packages/ipykernel/kernelbase.py\u001b[0m in \u001b[0;36m_input_request\u001b[0;34m(self, prompt, ident, parent, password)\u001b[0m\n\u001b[1;32m    729\u001b[0m             \u001b[0;32mtry\u001b[0m\u001b[0;34m:\u001b[0m\u001b[0;34m\u001b[0m\u001b[0;34m\u001b[0m\u001b[0m\n\u001b[0;32m--> 730\u001b[0;31m                 \u001b[0mident\u001b[0m\u001b[0;34m,\u001b[0m \u001b[0mreply\u001b[0m \u001b[0;34m=\u001b[0m \u001b[0mself\u001b[0m\u001b[0;34m.\u001b[0m\u001b[0msession\u001b[0m\u001b[0;34m.\u001b[0m\u001b[0mrecv\u001b[0m\u001b[0;34m(\u001b[0m\u001b[0mself\u001b[0m\u001b[0;34m.\u001b[0m\u001b[0mstdin_socket\u001b[0m\u001b[0;34m,\u001b[0m \u001b[0;36m0\u001b[0m\u001b[0;34m)\u001b[0m\u001b[0;34m\u001b[0m\u001b[0;34m\u001b[0m\u001b[0m\n\u001b[0m\u001b[1;32m    731\u001b[0m             \u001b[0;32mexcept\u001b[0m \u001b[0mException\u001b[0m\u001b[0;34m:\u001b[0m\u001b[0;34m\u001b[0m\u001b[0;34m\u001b[0m\u001b[0m\n",
            "\u001b[0;32m/usr/local/lib/python3.6/dist-packages/jupyter_client/session.py\u001b[0m in \u001b[0;36mrecv\u001b[0;34m(self, socket, mode, content, copy)\u001b[0m\n\u001b[1;32m    802\u001b[0m         \u001b[0;32mtry\u001b[0m\u001b[0;34m:\u001b[0m\u001b[0;34m\u001b[0m\u001b[0;34m\u001b[0m\u001b[0m\n\u001b[0;32m--> 803\u001b[0;31m             \u001b[0mmsg_list\u001b[0m \u001b[0;34m=\u001b[0m \u001b[0msocket\u001b[0m\u001b[0;34m.\u001b[0m\u001b[0mrecv_multipart\u001b[0m\u001b[0;34m(\u001b[0m\u001b[0mmode\u001b[0m\u001b[0;34m,\u001b[0m \u001b[0mcopy\u001b[0m\u001b[0;34m=\u001b[0m\u001b[0mcopy\u001b[0m\u001b[0;34m)\u001b[0m\u001b[0;34m\u001b[0m\u001b[0;34m\u001b[0m\u001b[0m\n\u001b[0m\u001b[1;32m    804\u001b[0m         \u001b[0;32mexcept\u001b[0m \u001b[0mzmq\u001b[0m\u001b[0;34m.\u001b[0m\u001b[0mZMQError\u001b[0m \u001b[0;32mas\u001b[0m \u001b[0me\u001b[0m\u001b[0;34m:\u001b[0m\u001b[0;34m\u001b[0m\u001b[0;34m\u001b[0m\u001b[0m\n",
            "\u001b[0;32m/usr/local/lib/python3.6/dist-packages/zmq/sugar/socket.py\u001b[0m in \u001b[0;36mrecv_multipart\u001b[0;34m(self, flags, copy, track)\u001b[0m\n\u001b[1;32m    465\u001b[0m         \"\"\"\n\u001b[0;32m--> 466\u001b[0;31m         \u001b[0mparts\u001b[0m \u001b[0;34m=\u001b[0m \u001b[0;34m[\u001b[0m\u001b[0mself\u001b[0m\u001b[0;34m.\u001b[0m\u001b[0mrecv\u001b[0m\u001b[0;34m(\u001b[0m\u001b[0mflags\u001b[0m\u001b[0;34m,\u001b[0m \u001b[0mcopy\u001b[0m\u001b[0;34m=\u001b[0m\u001b[0mcopy\u001b[0m\u001b[0;34m,\u001b[0m \u001b[0mtrack\u001b[0m\u001b[0;34m=\u001b[0m\u001b[0mtrack\u001b[0m\u001b[0;34m)\u001b[0m\u001b[0;34m]\u001b[0m\u001b[0;34m\u001b[0m\u001b[0;34m\u001b[0m\u001b[0m\n\u001b[0m\u001b[1;32m    467\u001b[0m         \u001b[0;31m# have first part already, only loop while more to receive\u001b[0m\u001b[0;34m\u001b[0m\u001b[0;34m\u001b[0m\u001b[0;34m\u001b[0m\u001b[0m\n",
            "\u001b[0;32mzmq/backend/cython/socket.pyx\u001b[0m in \u001b[0;36mzmq.backend.cython.socket.Socket.recv\u001b[0;34m()\u001b[0m\n",
            "\u001b[0;32mzmq/backend/cython/socket.pyx\u001b[0m in \u001b[0;36mzmq.backend.cython.socket.Socket.recv\u001b[0;34m()\u001b[0m\n",
            "\u001b[0;32mzmq/backend/cython/socket.pyx\u001b[0m in \u001b[0;36mzmq.backend.cython.socket._recv_copy\u001b[0;34m()\u001b[0m\n",
            "\u001b[0;32m/usr/local/lib/python3.6/dist-packages/zmq/backend/cython/checkrc.pxd\u001b[0m in \u001b[0;36mzmq.backend.cython.checkrc._check_rc\u001b[0;34m()\u001b[0m\n",
            "\u001b[0;31mKeyboardInterrupt\u001b[0m: ",
            "\nDuring handling of the above exception, another exception occurred:\n",
            "\u001b[0;31mKeyboardInterrupt\u001b[0m                         Traceback (most recent call last)",
            "\u001b[0;32m<ipython-input-1-4996ee3d8d09>\u001b[0m in \u001b[0;36m<module>\u001b[0;34m()\u001b[0m\n\u001b[1;32m      1\u001b[0m \u001b[0;32mfrom\u001b[0m \u001b[0mgoogle\u001b[0m\u001b[0;34m.\u001b[0m\u001b[0mcolab\u001b[0m \u001b[0;32mimport\u001b[0m \u001b[0mdrive\u001b[0m\u001b[0;34m\u001b[0m\u001b[0;34m\u001b[0m\u001b[0m\n\u001b[0;32m----> 2\u001b[0;31m \u001b[0mdrive\u001b[0m\u001b[0;34m.\u001b[0m\u001b[0mmount\u001b[0m\u001b[0;34m(\u001b[0m\u001b[0;34m'/content/gdrive'\u001b[0m\u001b[0;34m)\u001b[0m\u001b[0;34m\u001b[0m\u001b[0;34m\u001b[0m\u001b[0m\n\u001b[0m",
            "\u001b[0;32m/usr/local/lib/python3.6/dist-packages/google/colab/drive.py\u001b[0m in \u001b[0;36mmount\u001b[0;34m(mountpoint, force_remount, timeout_ms, use_metadata_server)\u001b[0m\n\u001b[1;32m    236\u001b[0m       \u001b[0mauth_prompt\u001b[0m \u001b[0;34m=\u001b[0m \u001b[0md\u001b[0m\u001b[0;34m.\u001b[0m\u001b[0mmatch\u001b[0m\u001b[0;34m.\u001b[0m\u001b[0mgroup\u001b[0m\u001b[0;34m(\u001b[0m\u001b[0;36m1\u001b[0m\u001b[0;34m)\u001b[0m \u001b[0;34m+\u001b[0m \u001b[0;34m'\\nEnter your authorization code:\\n'\u001b[0m\u001b[0;34m\u001b[0m\u001b[0;34m\u001b[0m\u001b[0m\n\u001b[1;32m    237\u001b[0m       \u001b[0;32mwith\u001b[0m \u001b[0mopen\u001b[0m\u001b[0;34m(\u001b[0m\u001b[0mfifo\u001b[0m\u001b[0;34m,\u001b[0m \u001b[0;34m'w'\u001b[0m\u001b[0;34m)\u001b[0m \u001b[0;32mas\u001b[0m \u001b[0mfifo_file\u001b[0m\u001b[0;34m:\u001b[0m\u001b[0;34m\u001b[0m\u001b[0;34m\u001b[0m\u001b[0m\n\u001b[0;32m--> 238\u001b[0;31m         \u001b[0mfifo_file\u001b[0m\u001b[0;34m.\u001b[0m\u001b[0mwrite\u001b[0m\u001b[0;34m(\u001b[0m\u001b[0m_getpass\u001b[0m\u001b[0;34m.\u001b[0m\u001b[0mgetpass\u001b[0m\u001b[0;34m(\u001b[0m\u001b[0mauth_prompt\u001b[0m\u001b[0;34m)\u001b[0m \u001b[0;34m+\u001b[0m \u001b[0;34m'\\n'\u001b[0m\u001b[0;34m)\u001b[0m\u001b[0;34m\u001b[0m\u001b[0;34m\u001b[0m\u001b[0m\n\u001b[0m\u001b[1;32m    239\u001b[0m       \u001b[0mwrote_to_fifo\u001b[0m \u001b[0;34m=\u001b[0m \u001b[0;32mTrue\u001b[0m\u001b[0;34m\u001b[0m\u001b[0;34m\u001b[0m\u001b[0m\n\u001b[1;32m    240\u001b[0m   \u001b[0;32mif\u001b[0m \u001b[0;32mnot\u001b[0m \u001b[0mwrote_to_fifo\u001b[0m\u001b[0;34m:\u001b[0m\u001b[0;34m\u001b[0m\u001b[0;34m\u001b[0m\u001b[0m\n",
            "\u001b[0;32m/usr/local/lib/python3.6/dist-packages/ipykernel/kernelbase.py\u001b[0m in \u001b[0;36mgetpass\u001b[0;34m(self, prompt, stream)\u001b[0m\n\u001b[1;32m    686\u001b[0m             \u001b[0mself\u001b[0m\u001b[0;34m.\u001b[0m\u001b[0m_parent_ident\u001b[0m\u001b[0;34m,\u001b[0m\u001b[0;34m\u001b[0m\u001b[0;34m\u001b[0m\u001b[0m\n\u001b[1;32m    687\u001b[0m             \u001b[0mself\u001b[0m\u001b[0;34m.\u001b[0m\u001b[0m_parent_header\u001b[0m\u001b[0;34m,\u001b[0m\u001b[0;34m\u001b[0m\u001b[0;34m\u001b[0m\u001b[0m\n\u001b[0;32m--> 688\u001b[0;31m             \u001b[0mpassword\u001b[0m\u001b[0;34m=\u001b[0m\u001b[0;32mTrue\u001b[0m\u001b[0;34m,\u001b[0m\u001b[0;34m\u001b[0m\u001b[0;34m\u001b[0m\u001b[0m\n\u001b[0m\u001b[1;32m    689\u001b[0m         )\n\u001b[1;32m    690\u001b[0m \u001b[0;34m\u001b[0m\u001b[0m\n",
            "\u001b[0;32m/usr/local/lib/python3.6/dist-packages/ipykernel/kernelbase.py\u001b[0m in \u001b[0;36m_input_request\u001b[0;34m(self, prompt, ident, parent, password)\u001b[0m\n\u001b[1;32m    733\u001b[0m             \u001b[0;32mexcept\u001b[0m \u001b[0mKeyboardInterrupt\u001b[0m\u001b[0;34m:\u001b[0m\u001b[0;34m\u001b[0m\u001b[0;34m\u001b[0m\u001b[0m\n\u001b[1;32m    734\u001b[0m                 \u001b[0;31m# re-raise KeyboardInterrupt, to truncate traceback\u001b[0m\u001b[0;34m\u001b[0m\u001b[0;34m\u001b[0m\u001b[0;34m\u001b[0m\u001b[0m\n\u001b[0;32m--> 735\u001b[0;31m                 \u001b[0;32mraise\u001b[0m \u001b[0mKeyboardInterrupt\u001b[0m\u001b[0;34m\u001b[0m\u001b[0;34m\u001b[0m\u001b[0m\n\u001b[0m\u001b[1;32m    736\u001b[0m             \u001b[0;32melse\u001b[0m\u001b[0;34m:\u001b[0m\u001b[0;34m\u001b[0m\u001b[0;34m\u001b[0m\u001b[0m\n\u001b[1;32m    737\u001b[0m                 \u001b[0;32mbreak\u001b[0m\u001b[0;34m\u001b[0m\u001b[0;34m\u001b[0m\u001b[0m\n",
            "\u001b[0;31mKeyboardInterrupt\u001b[0m: "
          ]
        }
      ]
    },
    {
      "cell_type": "code",
      "metadata": {
        "id": "24YhkOMVscbd",
        "colab_type": "code",
        "colab": {}
      },
      "source": [
        "import pandas as pd\n",
        "\n",
        "#UserInfo.tsv\n",
        "data=pd.read_csv('task2_en_training.tsv',delimiter='\\t',encoding='utf-8')"
      ],
      "execution_count": 0,
      "outputs": []
    },
    {
      "cell_type": "code",
      "metadata": {
        "id": "82i-XGAbO53Q",
        "colab_type": "code",
        "colab": {}
      },
      "source": [
        "test=pd.read_csv('task2_en_validation.tsv',delimiter='\\t',encoding='utf-8')"
      ],
      "execution_count": 0,
      "outputs": []
    },
    {
      "cell_type": "code",
      "metadata": {
        "id": "uLIn5PAK5uKY",
        "colab_type": "code",
        "outputId": "1facf5ae-4173-4fcf-d9fb-5fc3687b0c16",
        "colab": {
          "base_uri": "https://localhost:8080/",
          "height": 34
        }
      },
      "source": [
        ""
      ],
      "execution_count": 0,
      "outputs": [
        {
          "output_type": "execute_result",
          "data": {
            "text/plain": [
              "20544"
            ]
          },
          "metadata": {
            "tags": []
          },
          "execution_count": 4
        }
      ]
    },
    {
      "cell_type": "code",
      "metadata": {
        "id": "-i4aWqraPLGc",
        "colab_type": "code",
        "outputId": "6fc88327-3579-4377-f5b2-0e2dae835994",
        "colab": {
          "base_uri": "https://localhost:8080/",
          "height": 402
        }
      },
      "source": [
        "test"
      ],
      "execution_count": 0,
      "outputs": [
        {
          "output_type": "execute_result",
          "data": {
            "text/html": [
              "<div>\n",
              "<style scoped>\n",
              "    .dataframe tbody tr th:only-of-type {\n",
              "        vertical-align: middle;\n",
              "    }\n",
              "\n",
              "    .dataframe tbody tr th {\n",
              "        vertical-align: top;\n",
              "    }\n",
              "\n",
              "    .dataframe thead th {\n",
              "        text-align: right;\n",
              "    }\n",
              "</style>\n",
              "<table border=\"1\" class=\"dataframe\">\n",
              "  <thead>\n",
              "    <tr style=\"text-align: right;\">\n",
              "      <th></th>\n",
              "      <th>tweet_id</th>\n",
              "      <th>user_id</th>\n",
              "      <th>class</th>\n",
              "      <th>tweet</th>\n",
              "    </tr>\n",
              "  </thead>\n",
              "  <tbody>\n",
              "    <tr>\n",
              "      <th>0</th>\n",
              "      <td>343909778008973312</td>\n",
              "      <td>464336224</td>\n",
              "      <td>0</td>\n",
              "      <td>i don't fucking need humira</td>\n",
              "    </tr>\n",
              "    <tr>\n",
              "      <th>1</th>\n",
              "      <td>352823276889837570</td>\n",
              "      <td>590337731</td>\n",
              "      <td>0</td>\n",
              "      <td>my retake is next friday, if i bloody fail aga...</td>\n",
              "    </tr>\n",
              "    <tr>\n",
              "      <th>2</th>\n",
              "      <td>339867818843594756</td>\n",
              "      <td>246979971</td>\n",
              "      <td>0</td>\n",
              "      <td>@doctorchristian scared to start fluoxetine, w...</td>\n",
              "    </tr>\n",
              "    <tr>\n",
              "      <th>3</th>\n",
              "      <td>349294537367236611</td>\n",
              "      <td>149749939</td>\n",
              "      <td>0</td>\n",
              "      <td>@intuitivegal1 ok, if you stopped taking the l...</td>\n",
              "    </tr>\n",
              "    <tr>\n",
              "      <th>4</th>\n",
              "      <td>354256195432882177</td>\n",
              "      <td>54516759</td>\n",
              "      <td>0</td>\n",
              "      <td>novartis announces secukinumab (ain457) demons...</td>\n",
              "    </tr>\n",
              "    <tr>\n",
              "      <th>...</th>\n",
              "      <td>...</td>\n",
              "      <td>...</td>\n",
              "      <td>...</td>\n",
              "      <td>...</td>\n",
              "    </tr>\n",
              "    <tr>\n",
              "      <th>5129</th>\n",
              "      <td>350859685227798531</td>\n",
              "      <td>1460971</td>\n",
              "      <td>1</td>\n",
              "      <td>@crohns_twins that sucks. humira made me so si...</td>\n",
              "    </tr>\n",
              "    <tr>\n",
              "      <th>5130</th>\n",
              "      <td>332156923002617859</td>\n",
              "      <td>1403896746</td>\n",
              "      <td>1</td>\n",
              "      <td>i've had no appetite since i started on prozac...</td>\n",
              "    </tr>\n",
              "    <tr>\n",
              "      <th>5131</th>\n",
              "      <td>347529563628253184</td>\n",
              "      <td>15910137</td>\n",
              "      <td>1</td>\n",
              "      <td>takin anbien &amp;amp;seroquel for bad insomnia gi...</td>\n",
              "    </tr>\n",
              "    <tr>\n",
              "      <th>5132</th>\n",
              "      <td>331500382746472448</td>\n",
              "      <td>246440597</td>\n",
              "      <td>1</td>\n",
              "      <td>note to self - nicotine lozenge &amp;amp; alcohol ...</td>\n",
              "    </tr>\n",
              "    <tr>\n",
              "      <th>5133</th>\n",
              "      <td>347124997317345280</td>\n",
              "      <td>35295249</td>\n",
              "      <td>1</td>\n",
              "      <td>act now and get our deluxe cyde-fx set absolut...</td>\n",
              "    </tr>\n",
              "  </tbody>\n",
              "</table>\n",
              "<p>5134 rows × 4 columns</p>\n",
              "</div>"
            ],
            "text/plain": [
              "                tweet_id  ...                                              tweet\n",
              "0     343909778008973312  ...                        i don't fucking need humira\n",
              "1     352823276889837570  ...  my retake is next friday, if i bloody fail aga...\n",
              "2     339867818843594756  ...  @doctorchristian scared to start fluoxetine, w...\n",
              "3     349294537367236611  ...  @intuitivegal1 ok, if you stopped taking the l...\n",
              "4     354256195432882177  ...  novartis announces secukinumab (ain457) demons...\n",
              "...                  ...  ...                                                ...\n",
              "5129  350859685227798531  ...  @crohns_twins that sucks. humira made me so si...\n",
              "5130  332156923002617859  ...  i've had no appetite since i started on prozac...\n",
              "5131  347529563628253184  ...  takin anbien &amp;seroquel for bad insomnia gi...\n",
              "5132  331500382746472448  ...  note to self - nicotine lozenge &amp; alcohol ...\n",
              "5133  347124997317345280  ...  act now and get our deluxe cyde-fx set absolut...\n",
              "\n",
              "[5134 rows x 4 columns]"
            ]
          },
          "metadata": {
            "tags": []
          },
          "execution_count": 4
        }
      ]
    },
    {
      "cell_type": "code",
      "metadata": {
        "id": "VV7Sre5OPAXE",
        "colab_type": "code",
        "colab": {}
      },
      "source": [
        "test = test.filter(['tweet','class'], axis=1)"
      ],
      "execution_count": 0,
      "outputs": []
    },
    {
      "cell_type": "code",
      "metadata": {
        "id": "KtKlDf_3PQmP",
        "colab_type": "code",
        "outputId": "e312e873-b982-47fc-b52b-a116d7039b45",
        "colab": {
          "base_uri": "https://localhost:8080/",
          "height": 402
        }
      },
      "source": [
        "test"
      ],
      "execution_count": 0,
      "outputs": [
        {
          "output_type": "execute_result",
          "data": {
            "text/html": [
              "<div>\n",
              "<style scoped>\n",
              "    .dataframe tbody tr th:only-of-type {\n",
              "        vertical-align: middle;\n",
              "    }\n",
              "\n",
              "    .dataframe tbody tr th {\n",
              "        vertical-align: top;\n",
              "    }\n",
              "\n",
              "    .dataframe thead th {\n",
              "        text-align: right;\n",
              "    }\n",
              "</style>\n",
              "<table border=\"1\" class=\"dataframe\">\n",
              "  <thead>\n",
              "    <tr style=\"text-align: right;\">\n",
              "      <th></th>\n",
              "      <th>tweet</th>\n",
              "      <th>class</th>\n",
              "    </tr>\n",
              "  </thead>\n",
              "  <tbody>\n",
              "    <tr>\n",
              "      <th>0</th>\n",
              "      <td>i don't fucking need humira</td>\n",
              "      <td>0</td>\n",
              "    </tr>\n",
              "    <tr>\n",
              "      <th>1</th>\n",
              "      <td>my retake is next friday, if i bloody fail aga...</td>\n",
              "      <td>0</td>\n",
              "    </tr>\n",
              "    <tr>\n",
              "      <th>2</th>\n",
              "      <td>@doctorchristian scared to start fluoxetine, w...</td>\n",
              "      <td>0</td>\n",
              "    </tr>\n",
              "    <tr>\n",
              "      <th>3</th>\n",
              "      <td>@intuitivegal1 ok, if you stopped taking the l...</td>\n",
              "      <td>0</td>\n",
              "    </tr>\n",
              "    <tr>\n",
              "      <th>4</th>\n",
              "      <td>novartis announces secukinumab (ain457) demons...</td>\n",
              "      <td>0</td>\n",
              "    </tr>\n",
              "    <tr>\n",
              "      <th>...</th>\n",
              "      <td>...</td>\n",
              "      <td>...</td>\n",
              "    </tr>\n",
              "    <tr>\n",
              "      <th>5129</th>\n",
              "      <td>@crohns_twins that sucks. humira made me so si...</td>\n",
              "      <td>1</td>\n",
              "    </tr>\n",
              "    <tr>\n",
              "      <th>5130</th>\n",
              "      <td>i've had no appetite since i started on prozac...</td>\n",
              "      <td>1</td>\n",
              "    </tr>\n",
              "    <tr>\n",
              "      <th>5131</th>\n",
              "      <td>takin anbien &amp;amp;seroquel for bad insomnia gi...</td>\n",
              "      <td>1</td>\n",
              "    </tr>\n",
              "    <tr>\n",
              "      <th>5132</th>\n",
              "      <td>note to self - nicotine lozenge &amp;amp; alcohol ...</td>\n",
              "      <td>1</td>\n",
              "    </tr>\n",
              "    <tr>\n",
              "      <th>5133</th>\n",
              "      <td>act now and get our deluxe cyde-fx set absolut...</td>\n",
              "      <td>1</td>\n",
              "    </tr>\n",
              "  </tbody>\n",
              "</table>\n",
              "<p>5134 rows × 2 columns</p>\n",
              "</div>"
            ],
            "text/plain": [
              "                                                  tweet  class\n",
              "0                           i don't fucking need humira      0\n",
              "1     my retake is next friday, if i bloody fail aga...      0\n",
              "2     @doctorchristian scared to start fluoxetine, w...      0\n",
              "3     @intuitivegal1 ok, if you stopped taking the l...      0\n",
              "4     novartis announces secukinumab (ain457) demons...      0\n",
              "...                                                 ...    ...\n",
              "5129  @crohns_twins that sucks. humira made me so si...      1\n",
              "5130  i've had no appetite since i started on prozac...      1\n",
              "5131  takin anbien &amp;seroquel for bad insomnia gi...      1\n",
              "5132  note to self - nicotine lozenge &amp; alcohol ...      1\n",
              "5133  act now and get our deluxe cyde-fx set absolut...      1\n",
              "\n",
              "[5134 rows x 2 columns]"
            ]
          },
          "metadata": {
            "tags": []
          },
          "execution_count": 6
        }
      ]
    },
    {
      "cell_type": "code",
      "metadata": {
        "id": "k3YXHHJytM4g",
        "colab_type": "code",
        "outputId": "bb94465a-0c41-487a-cd2d-2ea0740924a4",
        "colab": {
          "base_uri": "https://localhost:8080/",
          "height": 402
        }
      },
      "source": [
        "data"
      ],
      "execution_count": 0,
      "outputs": [
        {
          "output_type": "execute_result",
          "data": {
            "text/html": [
              "<div>\n",
              "<style scoped>\n",
              "    .dataframe tbody tr th:only-of-type {\n",
              "        vertical-align: middle;\n",
              "    }\n",
              "\n",
              "    .dataframe tbody tr th {\n",
              "        vertical-align: top;\n",
              "    }\n",
              "\n",
              "    .dataframe thead th {\n",
              "        text-align: right;\n",
              "    }\n",
              "</style>\n",
              "<table border=\"1\" class=\"dataframe\">\n",
              "  <thead>\n",
              "    <tr style=\"text-align: right;\">\n",
              "      <th></th>\n",
              "      <th>tweet_id</th>\n",
              "      <th>user_id</th>\n",
              "      <th>class</th>\n",
              "      <th>tweet</th>\n",
              "    </tr>\n",
              "  </thead>\n",
              "  <tbody>\n",
              "    <tr>\n",
              "      <th>0</th>\n",
              "      <td>344266386467606528</td>\n",
              "      <td>809439366</td>\n",
              "      <td>0</td>\n",
              "      <td>depression hurts, cymbalta can help</td>\n",
              "    </tr>\n",
              "    <tr>\n",
              "      <th>1</th>\n",
              "      <td>349220537903489025</td>\n",
              "      <td>323112996</td>\n",
              "      <td>0</td>\n",
              "      <td>@jessicama20045 right, but cipro can make thin...</td>\n",
              "    </tr>\n",
              "    <tr>\n",
              "      <th>2</th>\n",
              "      <td>351421773079781378</td>\n",
              "      <td>713100330</td>\n",
              "      <td>0</td>\n",
              "      <td>@fibby1123 are you on paxil .. i need help</td>\n",
              "    </tr>\n",
              "    <tr>\n",
              "      <th>3</th>\n",
              "      <td>326594278472171520</td>\n",
              "      <td>543113070</td>\n",
              "      <td>0</td>\n",
              "      <td>@redicine the lamotrigine and sjs just made ch...</td>\n",
              "    </tr>\n",
              "    <tr>\n",
              "      <th>4</th>\n",
              "      <td>345567138376994816</td>\n",
              "      <td>138795534</td>\n",
              "      <td>0</td>\n",
              "      <td>have decided to skip my #humira shot today. my...</td>\n",
              "    </tr>\n",
              "    <tr>\n",
              "      <th>...</th>\n",
              "      <td>...</td>\n",
              "      <td>...</td>\n",
              "      <td>...</td>\n",
              "      <td>...</td>\n",
              "    </tr>\n",
              "    <tr>\n",
              "      <th>20539</th>\n",
              "      <td>469009954251481088</td>\n",
              "      <td>23177032</td>\n",
              "      <td>1</td>\n",
              "      <td>@hornetweb my mri scan shows when it happens b...</td>\n",
              "    </tr>\n",
              "    <tr>\n",
              "      <th>20540</th>\n",
              "      <td>468518427125358592</td>\n",
              "      <td>1961096371</td>\n",
              "      <td>1</td>\n",
              "      <td>remember 2003. vioxx costs $65m to ontario dru...</td>\n",
              "    </tr>\n",
              "    <tr>\n",
              "      <th>20541</th>\n",
              "      <td>512254891361075200</td>\n",
              "      <td>321391071</td>\n",
              "      <td>1</td>\n",
              "      <td>asians are at higher risk for severe allergic ...</td>\n",
              "    </tr>\n",
              "    <tr>\n",
              "      <th>20542</th>\n",
              "      <td>491775200610893825</td>\n",
              "      <td>2484689840</td>\n",
              "      <td>1</td>\n",
              "      <td>5. so what caused the #estrogen surges in #nuv...</td>\n",
              "    </tr>\n",
              "    <tr>\n",
              "      <th>20543</th>\n",
              "      <td>535492308817682432</td>\n",
              "      <td>330650218</td>\n",
              "      <td>1</td>\n",
              "      <td>@twittalesskels 😂😂😂😂 i'm high off this tamiflu...</td>\n",
              "    </tr>\n",
              "  </tbody>\n",
              "</table>\n",
              "<p>20544 rows × 4 columns</p>\n",
              "</div>"
            ],
            "text/plain": [
              "                 tweet_id  ...                                              tweet\n",
              "0      344266386467606528  ...                depression hurts, cymbalta can help\n",
              "1      349220537903489025  ...  @jessicama20045 right, but cipro can make thin...\n",
              "2      351421773079781378  ...         @fibby1123 are you on paxil .. i need help\n",
              "3      326594278472171520  ...  @redicine the lamotrigine and sjs just made ch...\n",
              "4      345567138376994816  ...  have decided to skip my #humira shot today. my...\n",
              "...                   ...  ...                                                ...\n",
              "20539  469009954251481088  ...  @hornetweb my mri scan shows when it happens b...\n",
              "20540  468518427125358592  ...  remember 2003. vioxx costs $65m to ontario dru...\n",
              "20541  512254891361075200  ...  asians are at higher risk for severe allergic ...\n",
              "20542  491775200610893825  ...  5. so what caused the #estrogen surges in #nuv...\n",
              "20543  535492308817682432  ...  @twittalesskels 😂😂😂😂 i'm high off this tamiflu...\n",
              "\n",
              "[20544 rows x 4 columns]"
            ]
          },
          "metadata": {
            "tags": []
          },
          "execution_count": 7
        }
      ]
    },
    {
      "cell_type": "code",
      "metadata": {
        "id": "NpdA5zQQvB6O",
        "colab_type": "code",
        "colab": {}
      },
      "source": [
        "new_data = data.filter(['tweet','class'], axis=1)"
      ],
      "execution_count": 0,
      "outputs": []
    },
    {
      "cell_type": "code",
      "metadata": {
        "id": "eeo-z9dE6JK0",
        "colab_type": "code",
        "colab": {}
      },
      "source": [
        "for i in range"
      ],
      "execution_count": 0,
      "outputs": []
    },
    {
      "cell_type": "code",
      "metadata": {
        "id": "1q7EU8crv8S0",
        "colab_type": "code",
        "outputId": "3cd5b05a-9589-42f1-9804-66fb8ab62084",
        "colab": {
          "base_uri": "https://localhost:8080/",
          "height": 34
        }
      },
      "source": [
        "new_data['tweet'][2]\n",
        "print(len(new_data))"
      ],
      "execution_count": 0,
      "outputs": [
        {
          "output_type": "stream",
          "text": [
            "20544\n"
          ],
          "name": "stdout"
        }
      ]
    },
    {
      "cell_type": "code",
      "metadata": {
        "id": "AyLaoV4Fv8yZ",
        "colab_type": "code",
        "colab": {}
      },
      "source": [
        "# import string\n",
        "# mess = 'sample message!...'\n",
        "# nopunc=[char for char in mess if char not in string.punctuation]\n",
        "# nopunc=''.join(nopunc)\n",
        "# print(nopunc)"
      ],
      "execution_count": 0,
      "outputs": []
    },
    {
      "cell_type": "code",
      "metadata": {
        "id": "rmDEWMqFxLVQ",
        "colab_type": "code",
        "outputId": "76413ed4-57bf-49b7-cf0c-b1ce5323d377",
        "colab": {
          "base_uri": "https://localhost:8080/",
          "height": 50
        }
      },
      "source": [
        "import string\n",
        "from nltk.corpus import stopwords\n",
        "from nltk import PorterStemmer as Stemmer\n",
        "import re\n",
        "import nltk\n",
        "nltk.download('stopwords')\n",
        "\n",
        "# text = u'This dog \\U0001f602'\n",
        "# print(text) # with emoji\n",
        "\n",
        "emoji_pattern = re.compile(\"[\"\n",
        "                u\"\\U0001F600-\\U0001F64F\"  # emoticons\n",
        "                u\"\\U0001F300-\\U0001F5FF\"  # symbols & pictographs\n",
        "                u\"\\U0001F680-\\U0001F6FF\"  # transport & map symbols\n",
        "                u\"\\U0001F1E0-\\U0001F1FF\"  # flags (iOS)\n",
        "                u\"\\U00002702-\\U000027B0\"\n",
        "                u\"\\U000024C2-\\U0001F251\"\n",
        "                u\"\\U0001f926-\\U0001f937\"\n",
        "                u'\\U00010000-\\U0010ffff'\n",
        "                u\"\\u200d\"\n",
        "                u\"\\u2640-\\u2642\"\n",
        "                u\"\\u2600-\\u2B55\"\n",
        "                u\"\\u23cf\"\n",
        "                u\"\\u23e9\"\n",
        "                u\"\\u231a\"\n",
        "                u\"\\u3030\"\n",
        "                u\"\\ufe0f\"\n",
        "    \"]+\", flags=re.UNICODE)\n",
        "#print(emoji_pattern.sub(r'', text)) # no emoji\n",
        "def remove_emoji(text):\n",
        "  return emoji_pattern.sub(r'', text)\n",
        "def process(text):\n",
        "    # lowercase it\n",
        "    text = text.lower()\n",
        "    text=remove_emoji(text)\n",
        "    # remove punctuation\n",
        "    text = ''.join([t for t in text if t not in string.punctuation])\n",
        "    # remove stopwords\n",
        "    text = [t for t in text.split() if t not in stopwords.words('english')]\n",
        "    # stemming\n",
        "    st = Stemmer()\n",
        "    text = [st.stem(t) for t in text]\n",
        "    # return token list\n",
        "    return text"
      ],
      "execution_count": 0,
      "outputs": [
        {
          "output_type": "stream",
          "text": [
            "[nltk_data] Downloading package stopwords to /root/nltk_data...\n",
            "[nltk_data]   Unzipping corpora/stopwords.zip.\n"
          ],
          "name": "stdout"
        }
      ]
    },
    {
      "cell_type": "code",
      "metadata": {
        "id": "4QWQTtIX5DQK",
        "colab_type": "code",
        "outputId": "bb9bf018-2dda-456d-c59f-960793231b37",
        "colab": {
          "base_uri": "https://localhost:8080/",
          "height": 370
        }
      },
      "source": [
        "new_data['tweet'][:20].apply(process)"
      ],
      "execution_count": 0,
      "outputs": [
        {
          "output_type": "execute_result",
          "data": {
            "text/plain": [
              "0                       [depress, hurt, cymbalta, help]\n",
              "1     [jessicama20045, right, cipro, make, thing, mu...\n",
              "2                        [fibby1123, paxil, need, help]\n",
              "3     [redicin, lamotrigin, sj, made, chao, veng, sa...\n",
              "4     [decid, skip, humira, shot, today, bodi, hyste...\n",
              "5     [needtobeskinny0, given, 7, month, worth, fluo...\n",
              "6     [bipolar, med, think, lithium, monotherapi, la...\n",
              "7     [shakeymik, feel, weather, put, trash, weird, ...\n",
              "8     [everyon, alway, upset, hous, damn, take, prozac]\n",
              "9     [rt, neuronow, studi, reinforc, invokanatm, ca...\n",
              "10                          [id, like, tri, venlafaxin]\n",
              "11    [rt, joshuag, tip, 5, item, health, kit, dista...\n",
              "12    [rt, an0namiss, lacabola, call, viibryd, resea...\n",
              "13       [thank, god, humira, wonderdrug, crohnsdiseas]\n",
              "14    [rt, nejm, report, fixeddos, regimen, dabigatr...\n",
              "15    [hanlovescheryl, yeah, ive, taken, didnt, work...\n",
              "16    [two, antidepress, mirtazapin, fluoxetin, link...\n",
              "17    [pensreport, penguinkitty87, allerg, take, cym...\n",
              "18    [“hezsokrayze, somma, yall, need, take, prozac...\n",
              "19    [come, sportscent, someon, give, pj, throat, l...\n",
              "Name: tweet, dtype: object"
            ]
          },
          "metadata": {
            "tags": []
          },
          "execution_count": 11
        }
      ]
    },
    {
      "cell_type": "code",
      "metadata": {
        "id": "hfpaJoHqNc55",
        "colab_type": "code",
        "colab": {}
      },
      "source": [
        "from sklearn.feature_extraction.text import TfidfVectorizer\n",
        "tfidfv = TfidfVectorizer(analyzer=process)\n",
        "data = tfidfv.fit_transform(new_data['tweet'])"
      ],
      "execution_count": 0,
      "outputs": []
    },
    {
      "cell_type": "code",
      "metadata": {
        "id": "fyKCFznANWLW",
        "colab_type": "code",
        "outputId": "62755569-ee96-4b85-fd6e-0ca96ed4cbf2",
        "colab": {
          "base_uri": "https://localhost:8080/",
          "height": 34
        }
      },
      "source": [
        "mess = new_data.iloc[2]['tweet']\n",
        "print(mess)"
      ],
      "execution_count": 0,
      "outputs": [
        {
          "output_type": "stream",
          "text": [
            "@fibby1123 are you on paxil .. i need help\n"
          ],
          "name": "stdout"
        }
      ]
    },
    {
      "cell_type": "code",
      "metadata": {
        "id": "fXu0CuYwNnpL",
        "colab_type": "code",
        "outputId": "627b6935-6939-42ed-e48a-b7362a2ac2e5",
        "colab": {
          "base_uri": "https://localhost:8080/",
          "height": 84
        }
      },
      "source": [
        "print(tfidfv.transform([mess]))"
      ],
      "execution_count": 0,
      "outputs": [
        {
          "output_type": "stream",
          "text": [
            "  (0, 22065)\t0.4013618771152165\n",
            "  (0, 20215)\t0.3105479637800298\n",
            "  (0, 12941)\t0.33463231418460415\n",
            "  (0, 10745)\t0.7940338910236032\n"
          ],
          "name": "stdout"
        }
      ]
    },
    {
      "cell_type": "code",
      "metadata": {
        "id": "tmvKWD-MNnr_",
        "colab_type": "code",
        "outputId": "f60a875b-4b0c-49bb-a867-cf1985d32ac8",
        "colab": {
          "base_uri": "https://localhost:8080/",
          "height": 101
        }
      },
      "source": [
        "j = tfidfv.transform([mess]).toarray()[0]\n",
        "print('index\\tidf\\ttfidf\\tterm')\n",
        "for i in range(len(j)):\n",
        "    if j[i] != 0:\n",
        "        print(i, format(tfidfv.idf_[i], '.4f'), format(j[i], '.4f'), tfidfv.get_feature_names()[i],sep='\\t')"
      ],
      "execution_count": 0,
      "outputs": [
        {
          "output_type": "stream",
          "text": [
            "index\tidf\ttfidf\tterm\n",
            "10745\t10.2372\t0.7940\tfibby1123\n",
            "12941\t4.3143\t0.3346\thelp\n",
            "20215\t4.0038\t0.3105\tneed\n",
            "22065\t5.1746\t0.4014\tpaxil\n"
          ],
          "name": "stdout"
        }
      ]
    },
    {
      "cell_type": "code",
      "metadata": {
        "id": "FzfFMTyvNnul",
        "colab_type": "code",
        "colab": {}
      },
      "source": [
        "from sklearn.pipeline import Pipeline\n",
        "from sklearn.naive_bayes import MultinomialNB\n",
        "from sklearn.naive_bayes import ComplementNB\n",
        "spam_filter = Pipeline([\n",
        "    ('vectorizer', TfidfVectorizer(analyzer=process)), # messages to weighted TFIDF score\n",
        "    ('classifier', MultinomialNB())                    # train on TFIDF vectors with Naive Bayes\n",
        "])\n"
      ],
      "execution_count": 0,
      "outputs": []
    },
    {
      "cell_type": "code",
      "metadata": {
        "id": "qo5pUzqfhZZs",
        "colab_type": "code",
        "colab": {}
      },
      "source": [
        "weights=[]\n",
        "\n",
        "for x in new_data['class']:\n",
        "  if(x==1):\n",
        "    weights.append(3)\n",
        "  else:\n",
        "    weights.append(0.5)"
      ],
      "execution_count": 0,
      "outputs": []
    },
    {
      "cell_type": "code",
      "metadata": {
        "id": "UcgCPoeXNnxV",
        "colab_type": "code",
        "outputId": "5bf36262-8653-4f06-f94c-80217a1a8295",
        "colab": {
          "base_uri": "https://localhost:8080/",
          "height": 302
        }
      },
      "source": [
        "from sklearn.utils import class_weight\n",
        "import numpy as np\n",
        "\n",
        "#class_weights = class_weight.compute_class_weight('balanced',np.unique(new_data['class']),new_data['class'])\n",
        "#classifier__sample_weight=class_weights\n",
        "spam_filter.fit(new_data['tweet'], new_data['class'],classifier__sample_weight=weights)"
      ],
      "execution_count": 0,
      "outputs": [
        {
          "output_type": "execute_result",
          "data": {
            "text/plain": [
              "Pipeline(memory=None,\n",
              "         steps=[('vectorizer',\n",
              "                 TfidfVectorizer(analyzer=<function process at 0x7f8d0df10510>,\n",
              "                                 binary=False, decode_error='strict',\n",
              "                                 dtype=<class 'numpy.float64'>,\n",
              "                                 encoding='utf-8', input='content',\n",
              "                                 lowercase=True, max_df=1.0, max_features=None,\n",
              "                                 min_df=1, ngram_range=(1, 1), norm='l2',\n",
              "                                 preprocessor=None, smooth_idf=True,\n",
              "                                 stop_words=None, strip_accents=None,\n",
              "                                 sublinear_tf=False,\n",
              "                                 token_pattern='(?u)\\\\b\\\\w\\\\w+\\\\b',\n",
              "                                 tokenizer=None, use_idf=True,\n",
              "                                 vocabulary=None)),\n",
              "                ('classifier',\n",
              "                 MultinomialNB(alpha=1.0, class_prior=None, fit_prior=True))],\n",
              "         verbose=False)"
            ]
          },
          "metadata": {
            "tags": []
          },
          "execution_count": 18
        }
      ]
    },
    {
      "cell_type": "code",
      "metadata": {
        "id": "mk-QHxhMOI72",
        "colab_type": "code",
        "colab": {}
      },
      "source": [
        "predictions = spam_filter.predict(test['tweet'])"
      ],
      "execution_count": 0,
      "outputs": []
    },
    {
      "cell_type": "code",
      "metadata": {
        "id": "IhHqFnkVOI-l",
        "colab_type": "code",
        "outputId": "0316e716-66fa-4d6f-b80f-434b0b783422",
        "colab": {
          "base_uri": "https://localhost:8080/",
          "height": 34
        }
      },
      "source": [
        "predictions"
      ],
      "execution_count": 0,
      "outputs": [
        {
          "output_type": "execute_result",
          "data": {
            "text/plain": [
              "array([0, 0, 0, ..., 1, 0, 1])"
            ]
          },
          "metadata": {
            "tags": []
          },
          "execution_count": 20
        }
      ]
    },
    {
      "cell_type": "code",
      "metadata": {
        "id": "Z8NuP_OwOJBX",
        "colab_type": "code",
        "outputId": "8d897fe9-eafb-4764-d8bd-d1e3b6a6cbfd",
        "colab": {
          "base_uri": "https://localhost:8080/",
          "height": 50
        }
      },
      "source": [
        "count = 0\n",
        "for i in range(len(test['class'])):\n",
        "    if test['class'].iloc[i] != predictions[i]:\n",
        "        count += 1\n",
        "print('Total number of test cases', len(test['class']))\n",
        "print('Number of wrong of predictions', count)"
      ],
      "execution_count": 0,
      "outputs": [
        {
          "output_type": "stream",
          "text": [
            "Total number of test cases 5134\n",
            "Number of wrong of predictions 690\n"
          ],
          "name": "stdout"
        }
      ]
    },
    {
      "cell_type": "code",
      "metadata": {
        "id": "uRCl0po9PrfE",
        "colab_type": "code",
        "outputId": "f80e6ab9-4b43-479b-c0f0-f52789094fd4",
        "colab": {
          "base_uri": "https://localhost:8080/",
          "height": 202
        }
      },
      "source": [
        "from sklearn.metrics import accuracy_score, recall_score, precision_score, f1_score, classification_report\n",
        "import numpy as np\n",
        "\n",
        "acc1 = accuracy_score(test['class'], predictions)\n",
        "recall = recall_score(test['class'], predictions)\n",
        "f1 =  f1_score(test['class'], predictions)\n",
        "precision = precision_score(test['class'], predictions)\n",
        "\n",
        "\n",
        "\n",
        "print(acc1, recall, f1, precision)\n",
        "print(set(predictions))\n",
        "print(classification_report(test['class'],predictions))"
      ],
      "execution_count": 0,
      "outputs": [
        {
          "output_type": "stream",
          "text": [
            "0.8656018698870277 0.6160337552742616 0.45839874411302983 0.365\n",
            "{0, 1}\n",
            "              precision    recall  f1-score   support\n",
            "\n",
            "           0       0.96      0.89      0.92      4660\n",
            "           1       0.36      0.62      0.46       474\n",
            "\n",
            "    accuracy                           0.87      5134\n",
            "   macro avg       0.66      0.75      0.69      5134\n",
            "weighted avg       0.90      0.87      0.88      5134\n",
            "\n"
          ],
          "name": "stdout"
        }
      ]
    },
    {
      "cell_type": "code",
      "metadata": {
        "id": "FjQ7zCg4UhCM",
        "colab_type": "code",
        "outputId": "15e87fbf-d1c6-4e17-bb9b-4b41dda2eb1b",
        "colab": {
          "base_uri": "https://localhost:8080/",
          "height": 34
        }
      },
      "source": [
        "count0, count1= 0,0\n",
        "for i in range(len(test)):\n",
        "  if test['class'].iloc[i] == 0:\n",
        "    count0+=1\n",
        "  elif test['class'].iloc[i] == 1:\n",
        "    count1 +=1\n",
        "print(count0, count1)"
      ],
      "execution_count": 0,
      "outputs": [
        {
          "output_type": "stream",
          "text": [
            "4660 474\n"
          ],
          "name": "stdout"
        }
      ]
    },
    {
      "cell_type": "code",
      "metadata": {
        "id": "V-IiHQ0q6Iq8",
        "colab_type": "code",
        "outputId": "af8c1e74-d4b2-47cf-948e-99c572615b94",
        "colab": {
          "base_uri": "https://localhost:8080/",
          "height": 34
        }
      },
      "source": [
        "count0, count1= 0,0\n",
        "for i in range(len(new_data)):\n",
        "  if new_data['class'].iloc[i] == 0:\n",
        "    count0+=1\n",
        "  elif new_data['class'].iloc[i] == 1:\n",
        "    count1 +=1\n",
        "print(count0, count1)"
      ],
      "execution_count": 0,
      "outputs": [
        {
          "output_type": "stream",
          "text": [
            "18641 1903\n"
          ],
          "name": "stdout"
        }
      ]
    },
    {
      "cell_type": "code",
      "metadata": {
        "id": "KKyetMV9lUch",
        "colab_type": "code",
        "outputId": "236e5381-e53b-48cd-dd72-7f3ab5dcd64c",
        "colab": {
          "base_uri": "https://localhost:8080/",
          "height": 34
        }
      },
      "source": [
        "count0, count1= 0,0\n",
        "for i in range(len(test)):\n",
        "  if predictions[i] == 0:\n",
        "    count0+=1\n",
        "  elif predictions[i] == 1:\n",
        "    count1 +=1\n",
        "print(count0, count1)"
      ],
      "execution_count": 0,
      "outputs": [
        {
          "output_type": "stream",
          "text": [
            "4334 800\n"
          ],
          "name": "stdout"
        }
      ]
    },
    {
      "cell_type": "code",
      "metadata": {
        "id": "Z_w3o0NZC0Dr",
        "colab_type": "code",
        "colab": {}
      },
      "source": [
        "# positive_test = []\n",
        "# pos_pred = []\n",
        "# for i in range(len(test)):\n",
        "#   if test['class'].iloc[i] == 1:\n",
        "#     positive_test.append(test['class'].iloc[i])\n",
        "# # for i in range(len(predictions)):\n",
        "# #   if predictions[i] == 1:\n",
        "# #     pos_pred.append(predictions[i])\n",
        "\n",
        "# f1 = f1_score(positive_test,predictions)\n",
        "\n",
        "# print(f1)\n",
        "\n"
      ],
      "execution_count": 0,
      "outputs": []
    }
  ]
}